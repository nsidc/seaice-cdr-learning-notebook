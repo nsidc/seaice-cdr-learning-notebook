{
 "cells": [
  {
   "cell_type": "markdown",
   "id": "7981b7b2-2de1-426c-a8a3-d1b73962b957",
   "metadata": {},
   "source": [
    "# Chapter 1: What is the Sea Ice Concentration Climate Data Record\n",
    "Creators: Ann Windnagel and Robyn Marowitz\n",
    "\n",
    "Affiliation: [National Snow And Ice Data Center](https://nsidc.org/home)"
   ]
  },
  {
   "cell_type": "markdown",
   "id": "31ab4d27-a8a6-4648-aa16-06457b9a3006",
   "metadata": {},
   "source": [
    "## Overview\n",
    "Understanding sea ice concentrations in the polar regions is critical to our understanding of the fitness of our planet in a warming world. The Arctic is like the canary in the coal mine for the health of Earth’s climate and is an early sign of the effects of climate change. The Arctic is warming faster than the rest of the globe, and one indicator of the enormous amount of transformation occurring there is the loss of sea ice. Sea ice is one of the most rapidly changing areas of the Arctic environment. Its loss impacts not just the Arctic region but the entire planet because it plays a critical role in regulating Earth’s climate and influences global weather patterns and ocean circulations. Because Arctic sea ice is light in color, it reflects most of the sunlight that hits the sea ice surface. This prevents too much heat from being absorbed into the ocean and helps to keep the region cool. However, as more sea ice is lost, more heat is absorbed by the ocean, which causes more melting. This amplifies warming, and the cycle continues. There are also noticeable changes in Antarctic sea ice, especially since 2016, and some scientists speculate a regime shift is occurring there as well. For these reasons, it is imperative that we monitor changes in sea ice and share information about the changes that are occurring.\n",
    "\n",
    "<img src=\"https://nsidc.org/sites/default/files/images/Landscape%2088_0.jpg\" width=\"550\" style=\"margin-left:auto; margin-right:auto\"/>\n",
    "\n",
    "###### <center>Pancake ice forms in the Arctic Ocean. — Credit: Glenn Grant/NSIDC</center>\n",
    "\n",
    "The [Version 4 NOAA/NSIDC Climate Data Record of Passive Microwave Sea Ice Concentration](https://nsidc.org/data/g02202/versions/4) is a sea ice concentration data set that allows one to analyze and monitor the state of the sea ice in both the Arctic and Antarctic. This data set provides a Climate Data Record (CDR) of sea ice concentration (SIC) from passive microwave data. The CDR algorithm output is a rule-based combination of ice concentration estimates from two well-established algorithms: the NASA Team (NT) algorithm (Cavalieri et al. 1984) and NASA Bootstrap (BT) algorithm (Comiso 1986). The CDR is a consistent, daily and monthly time series of sea ice concentrations from 25 October 1978 through the most recent processing for both the north and south polar regions. All data are on a 25 km x 25 km grid. \n",
    "\n",
    "<img src=\"images/nh-sh-monthly-min-2023.jpg\" width=\"900\" style=\"margin-left:auto; margin-right:auto\"/>\n",
    "\n",
    "###### <center>2023 sea ice minimum for the Arctic (left) and Antarctic (right) from monthly averaged CDR sea ice concentration data.</center>"
   ]
  },
  {
   "cell_type": "markdown",
   "id": "31271a44-59e1-448f-a3cc-3d78a3f3ff91",
   "metadata": {},
   "source": [
    "## File Information\n",
    "\n",
    "## * * * * * Should this cover daily and monthly data or only monthly data for simplicity? * * * * * \n",
    "\n",
    "### Data Format\n",
    "\n",
    "These data are provided in NetCDF4 file format and are compliant with the Climate and Forecast (CF) Metadata Convention CF-1.6 and the Attribute Convention for Data Discovery (ACDD) 1.3.\n",
    "\n",
    "[NetCDF](https://www.unidata.ucar.edu/software/netcdf/), or Network Common Data Form, \"is a set of software libraries and machine-independent data formats that support the creation, access, and sharing of array-oriented scientific data\" (Unidata 2024). Scientific data stored in NetCDF files are meant to be self-describing in that the file should include information about the data it contains. This self-describing information is also known as attributes or metadata. NetCDF files are a type of multidimensional raster files, like GeoTIFF files. (**!took this verbatim from the TCPrimed learning notebook!**)\n",
    "\n",
    "The [CF metadata conventions](https://cfconventions.org/) are \"designed to promote the processing and sharing\" of NetCDF files by defining \"metadata that provide a definitive description of what the data in each variable represents and the spatial and temporal properties of the data\"  (CF MetaData, 2024).\n",
    "\n",
    "The [Attribute Convention for Data Discovery](https://wiki.esipfed.org/Attribute_Convention_for_Data_Discovery_1-3) conventions build upon the CF conventions and provides a list of global and variable attributes that are Highly Recommended, Recommended, and Suggested (ESIP, 2024).\n",
    "\n",
    "### File Contents\n",
    "\n",
    "The NetCDF daily files contain 14 variables and the monthly files contain 12. These learning notebooks will mainly focus on utilizing the cdr_seaice_conc variable.\n",
    "\n",
    "| Variable Name | Description |\n",
    "| --- | --- |\n",
    "| cdr_seaice_conc{_monthly?} | NOAA/NSIDC sea Ice concentration CDR values |\n",
    "| latitude | Latitude in degrees north of the projection grid centers |\n",
    "| longitude | Latitude in degrees north of the projection grid centers |\n",
    "| melt_onset_day_cdr_seaice_conc{_monthly?} | The day of year on which melting sea ice was first detected in each grid cell for the daily NOAA/NSIDC CDR (Northern Hemisphere only) |\n",
    "| nsidc_bt_seaice_conc{_monthly} | NSIDC-processed Bootstrap sea ice concentrations |\n",
    "| nsidc_nt_seaice_conc{_monthly} | NSIDC-processed NASA Team sea ice concentrations |\n",
    "| projection | Goegraphic projection information for the data. |\n",
    "| qa_of_cdr_seaice_conc{_monthly} | Quality flags related to the cdr_seaice_conc{_monthly} data |\n",
    "| spatial_interpolation_flag | daily only: Marks the grid cells that were spatially interpolated |\n",
    "| stdev_of_cdr_seaice_conc{_monthly} | Standard deviation for the cdr_seaice_conc{_monthly} |\n",
    "| temporal_interpolation_flag | daily only: Marks the grid cells that were temporally interpolated |\n",
    "| time | Time in days since 1601-01-01 00:00:00 |\n",
    "| xgrid | X-offset in meters of the projection grid centers |\n",
    "| ygrid | Y-offset in meters of the projection grid centers |"
   ]
  },
  {
   "cell_type": "markdown",
   "id": "c26a0b12-ea62-4f81-ad21-a0da48727347",
   "metadata": {},
   "source": [
    "## Learning Objective\n",
    "\n",
    "### Prerequisites\n",
    "\n",
    "**TBD Need help from Robyn here**\n",
    "\n",
    "What information is needed to be successful in the notebook and provide links to other relevant material or external links. (We should maybe have a pool of resources that can be used here so that developers do not need to do an extensive search)\n",
    "\n",
    "### Chapters\n",
    "\n",
    "This set of learning journey notebooks is divided into the following chapters:\n",
    "* Chapter 1: What is the Sea Ice Concentration Climate Data Record (Notebook 1)\n",
    "* Chapter 2: Opening and Reading NetCDF files using STAC (Notebook 2)\n",
    "* Chapter 3: Mapping sea ice concentration (beginner/Notebook 3)\n",
    "* Chapter 4: Computing sea ice extent and time series graph (Notebook 4)\n",
    "* Chapter 5: Comparing SIC CDR to other data sets (Notebook 5)\n",
    "* Chapter 6: Creating Kerchunk files(?) (Notebook 6)\n",
    "\n",
    "### Targeted level\n",
    "\n",
    "These notebooks target a broad range of users.\n",
    "* Notebook 1: All levels\n",
    "* Notebook 2: Beginner\n",
    "* Notebook 3: Beginner/Intermediate\n",
    "* Notebook 4: Intermediate\n",
    "* Notebook 5: Advanced\n",
    "* Notebook 6: Intermediate\n",
    "\n",
    "### Learning outcomes\n",
    "\n",
    "    What should someone learn from this notebook?\n",
    "    What might someone be able to do once done?\n",
    "\n",
    "With completion of these learning Notebooks 1, 2, and 3, the user will learn to access and read the sea ice CDR NetCDF files via a STAC catalog and then plot a map of sea ice. Completing Notebook 4 will teach the user how to calculate a total sea ice extent for each day of the CDR time series and then plot a time series graph of the change in sea ice over time. With completion of Notebook 5, the user will have learned how to plot and graph sea ice concentrations against other sea ice data sets to see how they compare to one another. Also, users will have learned how to plot and graph sea ice concentration against air temperature, sea surface temperature, and sea level pressure to see how those measurements compares/affect sea ice over time."
   ]
  },
  {
   "cell_type": "markdown",
   "id": "e65e73c8-4fdc-483d-927d-2bab4534d4ff",
   "metadata": {},
   "source": [
    "## References\n",
    "\n",
    "Cavalieri, D. J., P. Gloersen, and W. J. Campbell. (1984). Determination of Sea Ice Parameters\n",
    "with the NIMBUS-7 SMMR. J. Geophys. Res., 89(D4): 5355-5369.\n",
    "\n",
    "CF MetaData. (2024). CF Metadata Conventions. Accessed 10 July 2024, https://cfconventions.org/.\n",
    "\n",
    "Comiso, J. C. (1986). Characteristics of Arctic Winter Sea Ice from Satellite Multispectral Microwave\n",
    "Observations. J. Geophys. Res., 91(C1): 975-994.\n",
    "\n",
    "ESIP. (2024). Attribute Convention for Data Discovery 1-3. Accessed 10 July 2024, https://wiki.esipfed.org/Attribute_Convention_for_Data_Discovery_1-3.\n",
    "\n",
    "Meier, W. N., A. Windnagel, S. Stewart. (2021). [CDR Climate Algorithm and Theoretical Basis\n",
    "Document: Sea Ice Concentration, Rev 9](https://nsidc.org/sites/nsidc.org/files/technical-references/CDRP-ATBD-final.pdf). NOAA NCEI CDR Program.\n",
    "\n",
    "Unidata. (2024). Network Common Data Form (NetCDF). Accessed 10 July 2024, https://www.unidata.ucar.edu/software/netcdf/."
   ]
  }
 ],
 "metadata": {
  "kernelspec": {
   "display_name": "Python 3 (ipykernel)",
   "language": "python",
   "name": "python3"
  },
  "language_info": {
   "codemirror_mode": {
    "name": "ipython",
    "version": 3
   },
   "file_extension": ".py",
   "mimetype": "text/x-python",
   "name": "python",
   "nbconvert_exporter": "python",
   "pygments_lexer": "ipython3",
   "version": "3.11.9"
  }
 },
 "nbformat": 4,
 "nbformat_minor": 5
}
