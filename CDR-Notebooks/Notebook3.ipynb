{
 "cells": [
  {
   "cell_type": "markdown",
   "id": "60df0707-d2ee-4575-8d3d-ea7edd2a0c17",
   "metadata": {},
   "source": [
    "# Chapter 3: Mapping Sea Ice Concentration\n",
    "\n",
    "* **Creators:** Ann Windnagel and Robyn Marowitz\n",
    "* **Affiliation:** [National Snow and Ice Data Center (NSIDC)](https://nsidc.org/home \"National Snow and Ice Data Center\")\n",
    "* **History:**\n",
    "  * January 2025 - Initial version"
   ]
  },
  {
   "cell_type": "markdown",
   "id": "2de90153-4fbc-4613-801f-0767468d5c4d",
   "metadata": {},
   "source": [
    "## Overview\n",
    "\n",
    "In this notebook, you will learn how to create a map of sea ice concentration for one day of data using STAC, Xarrary, and the matplotlib package. The dates you will plot are the record sea ice minimum for both hemispheres which were 21 February 2023 for the Southern Hemisphere and 17 September 2012 for the Northern Hemisphere.\n",
    "\n",
    "### Prerequisites\n",
    "Read and understand the material in Notebook 2.\n",
    "\n",
    "### Targeted Level\n",
    "Beginner/Intermediate\n",
    "\n",
    "### Learning Outcomes\n",
    "Once you have completed this notebook, you will be able to:\n",
    "* Extract sea ice concentration from a SIC CDR netCDF file for one day of data and threshold the concentration to 15%\n",
    "* Extract the land surface masks from the sea ice data for plotting\n",
    "* Plot the sea ice concentration and the land surfaces using different colormaps for the record sea ice minimum for both hemispheres\n",
    "\n",
    "### Time Estimate\n",
    "TBD"
   ]
  },
  {
   "cell_type": "markdown",
   "id": "84024088-a589-44c3-a69b-d9daa3db0d35",
   "metadata": {},
   "source": [
    "### Import Relevant Packages\n",
    "You will use [Matplotlib](https://matplotlib.org/ \"Matplotlib web site\") to plot the data."
   ]
  },
  {
   "cell_type": "code",
   "execution_count": 1,
   "id": "157f2908-4a64-470a-82ec-394bb1de6c61",
   "metadata": {},
   "outputs": [],
   "source": [
    "from datetime import datetime, date, timedelta\n",
    "import xarray as xr\n",
    "import numpy as np\n",
    "import numpy.ma as ma\n",
    "import fsspec\n",
    "import pystac\n",
    "import matplotlib.pyplot as plt"
   ]
  },
  {
   "cell_type": "markdown",
   "id": "d470ee17-765e-45b3-96aa-da2b7794f8dc",
   "metadata": {},
   "source": [
    "************************\n",
    "## Tutorial\n",
    "\n",
    "Plot sea ice concentration data\n",
    "*************************\n",
    "\n",
    "###  Read the STAC Collection and NetCDF Files\n",
    "To begin, you will repeat some code from Notebook 2 to access the STAC *Item* and the read the appropriate netCDF file. You will again be working with the 2023 daily Southern Hemisphere data."
   ]
  },
  {
   "cell_type": "code",
   "execution_count": 2,
   "id": "15e16f0a-84ba-40df-afc4-7d99bed75ce4",
   "metadata": {},
   "outputs": [],
   "source": [
    "# Specify the URL to the sea ice CDR collection.json file on NSIDC servers\n",
    "collection_url = 'https://noaadata.apps.nsidc.org/NOAA/G02202_V4/stac/collection.json'\n",
    "# Read file and assign to a variable\n",
    "collection = pystac.Collection.from_file(collection_url)\n",
    "\n",
    "# Extract items from the collection\n",
    "items = list(collection.get_all_items())\n",
    "\n",
    "# Extract all the Item IDs from the item list\n",
    "item_ids = [i.id for i in items]\n",
    "\n",
    "# Find the item id for the 2023 daily SH file\n",
    "# This command returns a list with one element that contains the id you want\n",
    "daily_sh_2023_id = [i for i in item_ids if \"daily_sh_2023\" in i]\n",
    "\n",
    "# Get item using item id\n",
    "daily_sh_2023_item = collection.get_item(daily_sh_2023_id[0], recursive=True)\n",
    "\n",
    "# Get the URL from the STAC Item assets\n",
    "netcdf_url_2023 = daily_sh_2023_item.assets['netcdf'].href\n",
    "\n",
    "# Read the netCDF file at that URL using fsspec and xarray and print out the result\n",
    "fs_2023 = fsspec.filesystem('https')\n",
    "ds_2023 = xr.open_dataset(fs_2023.open(netcdf_url_2023))"
   ]
  },
  {
   "cell_type": "markdown",
   "id": "42d41b66-a064-45ce-a41b-98850a4942a9",
   "metadata": {},
   "source": [
    "### Extract the Sea Ice Concentration Data"
   ]
  },
  {
   "cell_type": "code",
   "execution_count": 3,
   "id": "2294e657-ae10-43ca-adb9-e814e23ebbed",
   "metadata": {},
   "outputs": [],
   "source": [
    "# Pull out sea ice concentration variable and then put the data into a numpy array\n",
    "cdr_seaice_conc_2023 = ds_2023.variables['cdr_seaice_conc']\n",
    "cdr_seaice_conc_2023_np = np.array(cdr_seaice_conc_2023.data)"
   ]
  },
  {
   "cell_type": "markdown",
   "id": "d6cb5728-2834-490c-acc4-fbc354c2c665",
   "metadata": {},
   "source": [
    "### Create a Map using the Sea Ice Concentration Data\n",
    "Above you read in the Sea Ice Concentration data from `cdr_seaice_conc` variable in the netCDF file. Now you will create a map of one day of SIC data. To do this, you will do the following steps:\n",
    "* Pull out one day of data from Xarray dataset object and put into a numpy array\n",
    "* Threshold the sea ice concentration to 15%\n",
    "* Create filters for the surface types (ocean, land, coast, lake)\n",
    "* Plot the SIC and surface types on one map\n",
    "\n",
    "#### Extract One Day of Data\n",
    "\n",
    "In the previous code cells, you read in the 2023 data for the Southern Hemisphere. In the next cell, you will pull out the data for the record sea ice minimum for the Southern Hemisphere which occurred on 21 February 2023. As noted in Notebook 1, in the Southern Hemisphere, the sea ice minimum occurs in February or March every year, and in 2023 it was the lowest it had ever been."
   ]
  },
  {
   "cell_type": "code",
   "execution_count": 4,
   "id": "1def4664-b00f-4415-8d8c-cc769bc5a5af",
   "metadata": {},
   "outputs": [],
   "source": [
    "# Extract time out of the Xarray dataset object and put into a numpy array\n",
    "time_2023 = ds_2023.variables['time']\n",
    "time_2023_np = np.array(time_2023.data)\n",
    "# Find index where 21 February 2023 occurs\n",
    "sh_index = np.where(time_2023_np == np.datetime64(datetime(2023, 2, 21)))\n",
    "\n",
    "# Pull out the data for 21 February 2023 and put it in a numpy array\n",
    "seaice_conc_feb2023 = np.squeeze(cdr_seaice_conc_2023_np[sh_index[0],:,:])"
   ]
  },
  {
   "cell_type": "markdown",
   "id": "d501364b-0e51-419c-94a0-a2edcb11887f",
   "metadata": {},
   "source": [
    "#### Threshold the Concentration to 15%\n",
    "\n",
    "As noted in Notebook 1, a common threshold for sea ice concentrations is 15%. You will apply this 15% threshold to the SIC CDR data before plotting it."
   ]
  },
  {
   "cell_type": "code",
   "execution_count": 5,
   "id": "ffa42f3d-660b-4af1-9120-7b4a4fb76814",
   "metadata": {},
   "outputs": [],
   "source": [
    "# Set all concentrations less than 15 to ocean (0)\n",
    "is_not_seaice = seaice_conc_feb2023 < .15\n",
    "seaice_conc_feb2023[is_not_seaice] = 0\n",
    "\n",
    "# Only keep sea ice conentration i.e. where ice is between 15 and 100% and remove the surface masks and missing values\n",
    "sic_15_feb2023 = ma.masked_outside(seaice_conc_feb2023, .15, 1)"
   ]
  },
  {
   "cell_type": "markdown",
   "id": "b303d9be-6192-4fd9-a03c-11c2ced802ac",
   "metadata": {},
   "source": [
    "#### Mask Out Surface Types\n",
    "The `cdr_seaice_conc` variable in the netCDF files contains flags for different land surface types. You will create masks for each so that you can plot them with the sea ice concentration. Note that you will need to look at the flag values for the variable to get the correct values. You learned how to do this in Notebook 2 with the `cdr_seaice_conc_2023.attrs` command. This command is in the cell below. Once you run this command, you will see two attributes that describe the flags and their values: `flag_values` and `flag_meanings`. There are five flags with the following values: \n",
    "1. pole hole: 251\n",
    "2. lakes: 252\n",
    "3. coast: 253\n",
    "4. land: 254\n",
    "5. missing data: 255"
   ]
  },
  {
   "cell_type": "code",
   "execution_count": 6,
   "id": "4437beee-b5f8-4f64-89c1-39aaeb1a1c0b",
   "metadata": {},
   "outputs": [
    {
     "data": {
      "text/plain": [
       "{'long_name': 'NOAA/NSIDC Climate Data Record of Passive Microwave Daily Southern Hemisphere Sea Ice Concentration',\n",
       " 'standard_name': 'sea_ice_area_fraction',\n",
       " 'units': '1',\n",
       " 'flag_values': array([251, 252, 253, 254, 255], dtype=uint8),\n",
       " 'flag_meanings': 'pole_hole lakes coastal land_mask missing_data',\n",
       " 'datum': '+ellps=urn:ogc:def:crs:EPSG::4326',\n",
       " 'grid_mapping': 'projection',\n",
       " 'reference': 'https://nsidc.org/data/g02202/versions/4/',\n",
       " 'ancillary_variables': 'stdev_of_cdr_seaice_conc qa_of_cdr_seaice_conc',\n",
       " 'valid_range': array([  0, 100], dtype=uint8),\n",
       " 'cell_methods': 'tdim: mean'}"
      ]
     },
     "execution_count": 6,
     "metadata": {},
     "output_type": "execute_result"
    }
   ],
   "source": [
    "cdr_seaice_conc_2023.attrs"
   ]
  },
  {
   "cell_type": "markdown",
   "id": "11757d0e-7863-42af-8881-a86e5080ac72",
   "metadata": {},
   "source": [
    "<div class=\"alert alert-block alert-info\">\n",
    "<strong>Note:</strong> You'll see in the cell below that you will mask out values of 2.52, 2.53, and 2.54. You are not using the numbers 252, 253, and 254, as is listed in the attributes above, because the netCDF files contain an attribute for a scale factor on the data of .01. It is not listed in the attributes above because Xarray automatically applies the scale factor to the data.\n",
    "</div>"
   ]
  },
  {
   "cell_type": "code",
   "execution_count": 7,
   "id": "bee7aa33-7b70-4502-87e6-023b5ea850ae",
   "metadata": {},
   "outputs": [],
   "source": [
    "# Filter out the ocean where pixels = 0\n",
    "ocean = ma.masked_outside(seaice_conc_feb2023, 0, 0)\n",
    "\n",
    "# Filter out the surface values (land, coast, lake)\n",
    "land = ma.masked_outside(seaice_conc_feb2023, 2.54, 2.54)\n",
    "coast = ma.masked_outside(seaice_conc_feb2023, 2.53, 2.53)\n",
    "lakes = ma.masked_outside(seaice_conc_feb2023, 2.52, 2.52)"
   ]
  },
  {
   "cell_type": "markdown",
   "id": "93838e3f-a780-4509-afe9-c3b6212748b5",
   "metadata": {},
   "source": [
    "<div class=\"alert alert-block alert-success\">\n",
    "<h3><strong>Check Your Work</strong></h3>\n",
    "You can verify that the image you created below is create by checking it against another sea ice data set called the Sea Ice Index: <a href=\"https://noaadata.apps.nsidc.org/NOAA/G02135/south/daily/images/2023/02_Feb/S_20230221_conc_hires_v3.0.png\">https://noaadata.apps.nsidc.org/NOAA/G02135/south/daily/images/2023/02_Feb/S_20230221_conc_hires_v3.0.png</a>.</br>\n",
    "The two images won't look exactly the same, since they are different data sets using different sea ice algorithms; but they should look similar.\n",
    "</div>"
   ]
  },
  {
   "cell_type": "code",
   "execution_count": 42,
   "id": "cd1ad70f-146d-4355-b37c-77424bafd030",
   "metadata": {},
   "outputs": [
    {
     "data": {
      "image/png": "[encoded data removed]",
      "text/plain": [
       "<Figure size 1600x1200 with 2 Axes>"
      ]
     },
     "metadata": {},
     "output_type": "display_data"
    }
   ],
   "source": [
    "# Plot the map using different color maps for the sea ice, land/coast, and ocean/lake\n",
    "# Set up plot space\n",
    "fig, ax1 = plt.subplots(figsize=(16, 12))\n",
    "\n",
    "# Plot 15% sesa ice concentration\n",
    "seaice_15_plot = ax1.imshow(sic_15_feb2023, cmap='Blues_r', interpolation='none')\n",
    "\n",
    "# Add a colorbar\n",
    "cbar = fig.colorbar(seaice_15_plot, ax=ax1)\n",
    "# Add a title to the colorbar\n",
    "cbar.set_label('Sea Ice Area Fraction')\n",
    "\n",
    "# Plot land surfaces\n",
    "land_plot = ax1.imshow(land, cmap='Accent_r', interpolation='none')\n",
    "coast_plot = ax1.imshow(coast, cmap='Accent_r', interpolation='none')\n",
    "ocean_plot = ax1.imshow(ocean, cmap='PuBu_r', interpolation='none')\n",
    "lake_plot = ax1.imshow(lakes, cmap='PuBu_r', interpolation='none')\n",
    "\n",
    "# Plot title and turn off axes\n",
    "plt.title(\"Sea Ice Concentration for 21 February 2023 for the Southern Hemisphere\", fontsize=14)\n",
    "plt.axis('off')\n",
    "plt.show()"
   ]
  },
  {
   "cell_type": "markdown",
   "id": "0aaa459e-01b2-4f67-9135-7b87cf136a24",
   "metadata": {},
   "source": [
    "<div class=\"alert alert-block alert-success\">\n",
    "<h3><strong>Exercise</strong></h3>\n",
    "Using the example from this Tutorial, uncomment the template below, and change the code as necessary to plot the sea ice concentration minimum for the Northern Hemisphere on 17 September 2012. <strong>Be sure to update variable names and map titles as appropriate as well.</strong>\n",
    "</div>\n",
    "\n",
    "<div class=\"alert alert-block alert-info\">\n",
    "<strong>Hint:</strong> Think about what you need to search for to find the correct `Item id` for the daily 2012 Northern Hemisphere <em>Item</em>.\n",
    "</div>\n",
    "\n",
    "#### Get the 2012 Northern Hemisphere Data"
   ]
  },
  {
   "cell_type": "code",
   "execution_count": null,
   "id": "0a791b10-8c3a-49f2-9893-80f5e0f7211b",
   "metadata": {},
   "outputs": [],
   "source": [
    "# Find the item id for the 2012 daily NH file\n",
    "#daily_sh_2023_id = [i for i in item_ids if \"daily_sh_2023\" in i] # Uncomment out this command and update as necessary\n",
    "\n",
    "# Get item using item id\n",
    "#daily_sh_2023_item = collection.get_item(daily_sh_2023_id[0], recursive=True) # Uncomment out this command and update as necessary\n",
    "\n",
    "# Get the URL from the STAC Item assets\n",
    "#netcdf_url_2023 = daily_sh_2023_item.assets['netcdf'].href # Uncomment out this command and update as necessary\n",
    "\n",
    "# Read the netCDF file at that URL using fsspec and xarray and print out the result\n",
    "#fs_2023 = fsspec.filesystem('https') # Uncomment out this command and update as necessary\n",
    "#ds_2023 = xr.open_dataset(fs_2023.open(netcdf_url_2023)) # Uncomment out this command and update as necessary"
   ]
  },
  {
   "cell_type": "markdown",
   "id": "165b9d5f-fb9c-4b28-9b9c-f6df06d0c899",
   "metadata": {},
   "source": [
    "#### Extract the Sea Ice Concentration Variable from the 2012 File"
   ]
  },
  {
   "cell_type": "code",
   "execution_count": null,
   "id": "30cde63d-f6f2-4be2-a138-f2e64d373974",
   "metadata": {},
   "outputs": [],
   "source": [
    "# Pull out sea ice concentration variable and then put the data into a numpy array\n",
    "#cdr_seaice_conc_2023 = ds_2023.variables['cdr_seaice_conc'] # Uncomment out this command and update as necessary\n",
    "#cdr_seaice_conc_2023_np = np.array(cdr_seaice_conc_2023.data) # Uncomment out this command and update as necessary"
   ]
  },
  {
   "cell_type": "markdown",
   "id": "87f46880-d4dd-421e-a427-cf2d80c2252f",
   "metadata": {},
   "source": [
    "#### Get the Time Variable and Pull out the Data for 17 September 2012"
   ]
  },
  {
   "cell_type": "code",
   "execution_count": null,
   "id": "b65b6342-4623-4ed5-8fcf-0c1bd59ec2df",
   "metadata": {},
   "outputs": [],
   "source": [
    "# Extract time out of the Xarray dataset object and put into a numpy array\n",
    "#time_2023 = ds_2023.variables['time'] # Uncomment out this command and update as necessary\n",
    "#time_2023_np = np.array(time_2023.data) # Uncomment out this command and update as necessary\n",
    "\n",
    "# Find index where 21 February 2023 occurs\n",
    "#sh_index = np.where(time_2023_np == np.datetime64(datetime(2023, 2, 21))) # Uncomment out this command and update the date\n",
    "\n",
    "# Pull out the data for 21 February 2023 and put it in a numpy array\n",
    "#seaice_conc_feb2023 = np.squeeze(cdr_seaice_conc_2023_np[sh_index[0],:,:]) # Uncomment out this command and update as necessary"
   ]
  },
  {
   "cell_type": "markdown",
   "id": "c9ee45cd-3d61-4e54-8ca9-390ff8ed94cf",
   "metadata": {},
   "source": [
    "#### Threshold the Concentration to 15%"
   ]
  },
  {
   "cell_type": "code",
   "execution_count": null,
   "id": "bfc25d86-4aca-4c8a-91c2-ea7f5a5aa8d3",
   "metadata": {},
   "outputs": [],
   "source": [
    "# Set all concentrations less than 15 to ocean (0)\n",
    "#is_not_seaice = seaice_conc_feb2023 < .15 # Uncomment out this command and update as necessary\n",
    "#seaice_conc_feb2023[is_not_seaice] = 0 # Uncomment out this command and update as necessary\n",
    "\n",
    "# Only keep sea ice conentration i.e. where ice is between 15 and 100% and remove the surface masks and missing values\n",
    "#sic_15_feb2023 = ma.masked_outside(seaice_conc_feb2023, .15, 1) # Uncomment out this command and update as necessary"
   ]
  },
  {
   "cell_type": "markdown",
   "id": "7b9b990c-75f5-4038-ae94-872cc8499573",
   "metadata": {},
   "source": [
    "#### Mask Out Surface Types"
   ]
  },
  {
   "cell_type": "code",
   "execution_count": null,
   "id": "af28a130-8021-4992-8dd4-9dd5a0109f93",
   "metadata": {},
   "outputs": [],
   "source": [
    "# Filter out the ocean where pixels = 0\n",
    "#ocean = ma.masked_outside(seaice_conc_feb2023, 0, 0) # Uncomment out this command and update as necessary\n",
    "\n",
    "# Filter out the surface values (land, coast, lake)\n",
    "#land = ma.masked_outside(seaice_conc_feb2023, 2.54, 2.54) # Uncomment out this command and update as necessary\n",
    "#coast = ma.masked_outside(seaice_conc_feb2023, 2.53, 2.53) # Uncomment out this command and update as necessary\n",
    "#lakes = ma.masked_outside(seaice_conc_feb2023, 2.52, 2.52) # Uncomment out this command and update as necessary"
   ]
  },
  {
   "cell_type": "markdown",
   "id": "85123c8a-2dec-4f16-bdab-5b75149e11b7",
   "metadata": {},
   "source": [
    "#### Plot the Northern Hemisphere Record Minimum\n",
    "\n",
    "<div class=\"alert alert-block alert-success\">\n",
    "<h3><strong>Check Your Work</strong></h3>\n",
    "You can verify that the image you created below is create by checking it against another sea ice data set called the Sea Ice Index: <a href=\"https://noaadata.apps.nsidc.org/NOAA/G02135/north/daily/images/2012/09_Sep/N_20120917_conc_hires_v3.0.png\">https://noaadata.apps.nsidc.org/NOAA/G02135/north/daily/images/2012/09_Sep/N_20120917_conc_hires_v3.0.png</a>.</br>\n",
    "The two images won't look exactly the same, since they are different data sets using different sea ice algorithms; but they should look similar.\n",
    "</div>"
   ]
  },
  {
   "cell_type": "code",
   "execution_count": null,
   "id": "4061994a-f308-4c9b-ac27-3b8a54a4997a",
   "metadata": {},
   "outputs": [],
   "source": [
    "# Plot the map using different color maps for the sea ice, land/coast, and ocean/lake\n",
    "# Set up plot space\n",
    "#fig, ax1 = plt.subplots(figsize=(16, 12)) # Uncomment out this command and update as necessary\n",
    "\n",
    "# Plot 15% sesa ice concentration\n",
    "#seaice_15_plot = ax1.imshow(sic_15_feb2023, cmap='Blues_r', interpolation='none') # Uncomment out this command and update as necessary\n",
    "\n",
    "# Add a colorbar\n",
    "#cbar = fig.colorbar(seaice_15_plot, ax=ax1) # Uncomment out this command\n",
    "# Add a title to the colorbar\n",
    "#cbar.set_label('Sea Ice Area Fraction') # Uncomment out this command\n",
    "\n",
    "# Plot land surfaces\n",
    "#land_plot = ax1.imshow(land, cmap='Accent_r', interpolation='none') # Uncomment out this command\n",
    "#coast_plot = ax1.imshow(coast, cmap='Accent_r', interpolation='none') # Uncomment out this command\n",
    "#ocean_plot = ax1.imshow(ocean, cmap='PuBu_r', interpolation='none') # Uncomment out this command\n",
    "#lake_plot = ax1.imshow(lakes, cmap='PuBu_r', interpolation='none') # Uncomment out this command\n",
    "\n",
    "# Plot title and turn off axes\n",
    "#plt.title(\"Sea Ice Concentration for 21 February 2023 for the Southern Hemisphere\", fontsize=14) # Uncomment out this command and update title date\n",
    "#plt.axis('off') # Uncomment out this command and update as necessary\n",
    "#plt.show() # Uncomment out this command and update as necessary"
   ]
  },
  {
   "cell_type": "markdown",
   "id": "f87c5d46-4ef8-47a4-92d9-e6b0c2893e90",
   "metadata": {},
   "source": [
    "### Next Steps\n",
    "\n",
    "After successful completion of Notebook 3, you can go on to Notebook 4: Computing Sea Ice Extent and Plotting a Time Series Graph."
   ]
  },
  {
   "cell_type": "markdown",
   "id": "285a6b4e-d6d7-42ea-ba4e-82e485f7aee0",
   "metadata": {},
   "source": [
    "### Data Statement\n",
    "\n",
    "Meier, W. N., Fetterer, F., Windnagel, A. K., & Stewart, J. S. (2021). NOAA/NSIDC Climate Data Record of Passive Microwave Sea Ice Concentration. (G02202, Version 4). [Data Set]. Boulder, Colorado USA. National Snow and Ice Data Center. https://doi.org/10.7265/efmz-2t65."
   ]
  },
  {
   "cell_type": "markdown",
   "id": "e3f0dd9c-2043-41dc-b87d-eac820d440f1",
   "metadata": {},
   "source": [
    "### Metadata\n",
    "\n",
    "* Language/Package(s)\n",
    "  * Python\n",
    "  * xarray\n",
    "  * pystac\n",
    "  * numpy\n",
    "  * matplotlib\n",
    "* Geophysical Keywords\n",
    "  * Sea Ice Concentration"
   ]
  },
  {
   "cell_type": "markdown",
   "id": "8d7a27d4-7310-4d5f-a739-186db612e984",
   "metadata": {},
   "source": [
    "### Software License\n",
    "\n",
    "Copyright 2025 NOAA NCAI\n",
    "\n",
    "Permission is hereby granted, free of charge, to any person obtaining a copy of this software and associated documentation files (the “Software”), to deal in the Software without restriction, including without limitation the rights to use, copy, modify, merge, publish, distribute, sublicense, and/or sell copies of the Software, and to permit persons to whom the Software is furnished to do so, subject to the following conditions:\n",
    "\n",
    "The above copyright notice and this permission notice shall be included in all copies or substantial portions of the Software.\n",
    "\n",
    "THE SOFTWARE IS PROVIDED “AS IS”, WITHOUT WARRANTY OF ANY KIND, EXPRESS OR IMPLIED, INCLUDING BUT NOT LIMITED TO THE WARRANTIES OF MERCHANTABILITY, FITNESS FOR A PARTICULAR PURPOSE AND NONINFRINGEMENT. IN NO EVENT SHALL THE AUTHORS OR COPYRIGHT HOLDERS BE LIABLE FOR ANY CLAIM, DAMAGES OR OTHER LIABILITY, WHETHER IN AN ACTION OF CONTRACT, TORT OR OTHERWISE, ARISING FROM, OUT OF OR IN CONNECTION WITH THE SOFTWARE OR THE USE OR OTHER DEALINGS IN THE SOFTWARE.\n",
    "\n",
    "### Content License\n",
    "\n",
    "[CC BY 4.0](https://creativecommons.org/licenses/by/4.0/ \"Createive Commons BY 4.0 License\")"
   ]
  },
  {
   "cell_type": "markdown",
   "id": "d9a5375c-bcb5-42df-95f5-1623b45f8bcb",
   "metadata": {},
   "source": [
    "### Disclaimer\n",
    "\n",
    "This Jupyter notebook is a scientific product and is not official communication of the National Oceanic and Atmospheric Administration, or the United States Department of Commerce. All NOAA Jupyter notebooks are provided on an 'as is' basis and the user assumes responsibility for its use. Any claims against the Department of Commerce or Department of Commerce bureaus stemming from the use of this Jupyter notebook will be governed by all applicable Federal law. Any reference to specific commercial products, processes, or services by service mark, trademark, manufacturer, or otherwise does not constitute or imply their endorsement, recommendation or favoring by the Department of Commerce. The Department of Commerce seal and logo, or the seal and logo of a DOC bureau, shall not be used in any manner to imply endorsement of any commercial product or activity by DOC or the United States Government."
   ]
  }
 ],
 "metadata": {
  "kernelspec": {
   "display_name": "Python 3 (ipykernel)",
   "language": "python",
   "name": "python3"
  },
  "language_info": {
   "codemirror_mode": {
    "name": "ipython",
    "version": 3
   },
   "file_extension": ".py",
   "mimetype": "text/x-python",
   "name": "python",
   "nbconvert_exporter": "python",
   "pygments_lexer": "ipython3",
   "version": "3.11.10"
  }
 },
 "nbformat": 4,
 "nbformat_minor": 5
}
