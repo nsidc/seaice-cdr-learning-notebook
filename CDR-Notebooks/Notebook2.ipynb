{
 "cells": [
  {
   "cell_type": "markdown",
   "id": "e9787766-5b49-4551-996c-7269b4b6516a",
   "metadata": {},
   "source": [
    "# Chapter 2: Opening and Reading NetCDF files using STAC\n",
    "Creators: Ann Windnagel and Robyn Marowitz\n",
    "\n",
    "Affiliation: [National Snow And Ice Data Center](https://nsidc.org/home)"
   ]
  },
  {
   "cell_type": "markdown",
   "id": "e74fb48e-86c4-4850-92bd-9fa8353c2166",
   "metadata": {},
   "source": [
    "## Learning Objectives\n",
    "\n",
    "In this notebook we will learn how to open and read NetCDF files using STAC. While we do this we will explore the features and vairables of the STAC Collection and Items."
   ]
  },
  {
   "cell_type": "markdown",
   "id": "4cdd7849-fc2d-4053-9a67-8c61ddd74bcc",
   "metadata": {},
   "source": [
    "### Import relevant packages\n",
    "If you're interested in learning more ....link package documentation\n"
   ]
  },
  {
   "cell_type": "code",
   "execution_count": 50,
   "id": "51444843-2eaa-49b9-bb2c-ad9fc251eaa8",
   "metadata": {},
   "outputs": [],
   "source": [
    "import json\n",
    "import requests\n",
    "\n",
    "import pystac\n",
    "from netCDF4 import Dataset"
   ]
  },
  {
   "cell_type": "markdown",
   "id": "07d02a66-bde4-4615-b260-82dd1d278aa3",
   "metadata": {},
   "source": [
    "## STAC Collections\n",
    "\n",
    "[A STAC Collection](https://github.com/radiantearth/stac-spec/tree/master/collection-spec) object is used to describe a group of reltaed Items.  \n",
    "\n",
    "To begin we will assign our `collection.json` to a variable `collection` so that we can explore it using `pystac`."
   ]
  },
  {
   "cell_type": "code",
   "execution_count": 14,
   "id": "b44093a6-a9d0-499a-bc4a-83d4f5c85457",
   "metadata": {},
   "outputs": [],
   "source": [
    "collection = pystac.Collection.from_file('https://noaadata.apps.nsidc.org/NOAA/G02202_V4/stac/collection.json')"
   ]
  },
  {
   "cell_type": "markdown",
   "id": "6d66dc57-1e9f-4e35-bbec-a699ff2929a6",
   "metadata": {},
   "source": [
    "## Explore Collection Information\n",
    "\n",
    "In the following cells we will look at how the Collection is organized. Using the `describe` method we will see all of the `Items` listed. In the `Item id` there is already a wealth of information - `nh` means northern hemisphere and `sh` means southern hemisphere."
   ]
  },
  {
   "cell_type": "code",
   "execution_count": 4,
   "id": "e806a400-818e-45b8-8f6e-69ef66ac1e11",
   "metadata": {
    "scrolled": true
   },
   "outputs": [
    {
     "name": "stdout",
     "output_type": "stream",
     "text": [
      "* <Collection id=noaa-cdr-sea-ice-concentration>\n",
      "  * <Item id=seaice_conc_daily_nh_1996_v04r00>\n",
      "  * <Item id=seaice_conc_monthly_nh_197811_202312_v04r00>\n",
      "  * <Item id=seaice_conc_monthly_sh_197811_202312_v04r00>\n",
      "  * <Item id=seaice_conc_daily_sh_2023_v04r00>\n",
      "  * <Item id=seaice_conc_daily_sh_2022_v04r00>\n",
      "  * <Item id=seaice_conc_daily_sh_2021_v04r00>\n",
      "  * <Item id=seaice_conc_daily_sh_2020_v04r00>\n",
      "  * <Item id=seaice_conc_daily_sh_2019_v04r00>\n",
      "  * <Item id=seaice_conc_daily_sh_2018_v04r00>\n",
      "  * <Item id=seaice_conc_daily_sh_2017_v04r00>\n",
      "  * <Item id=seaice_conc_daily_sh_2016_v04r00>\n",
      "  * <Item id=seaice_conc_daily_sh_2015_v04r00>\n",
      "  * <Item id=seaice_conc_daily_sh_2014_v04r00>\n",
      "  * <Item id=seaice_conc_daily_sh_2013_v04r00>\n",
      "  * <Item id=seaice_conc_daily_sh_2012_v04r00>\n",
      "  * <Item id=seaice_conc_daily_sh_2011_v04r00>\n",
      "  * <Item id=seaice_conc_daily_sh_2010_v04r00>\n",
      "  * <Item id=seaice_conc_daily_sh_2009_v04r00>\n",
      "  * <Item id=seaice_conc_daily_sh_2008_v04r00>\n",
      "  * <Item id=seaice_conc_daily_sh_2005_v04r00>\n",
      "  * <Item id=seaice_conc_daily_nh_2023_v04r00>\n",
      "  * <Item id=seaice_conc_daily_nh_2022_v04r00>\n"
     ]
    }
   ],
   "source": [
    "collection.describe()"
   ]
  },
  {
   "cell_type": "code",
   "execution_count": 18,
   "id": "07d64714-6358-42b8-a96d-aabaccc02e89",
   "metadata": {},
   "outputs": [
    {
     "name": "stdout",
     "output_type": "stream",
     "text": [
      "Title:  Sea Ice Concentration CDR\n",
      "Description:  The Sea Ice Concentration Climate Data Record (CDR) provides a consistent daily and monthly time series of sea ice concentrations for both the north and south Polar Regions on a 25 km x 25 km grid. These data can be used to estimate how much of the ocean surface is covered by ice, and monitor changes in sea ice concentration. The CDR combines concentration estimates using two algorithms developed at the NASA Goddard Space Flight Center (GSFC). Gridded brightness temperatures acquired from a number of Defense Meteorological Satellite Program (DMSP) passive microwave radiometers provide the necessary input to produce the dataset.\n"
     ]
    }
   ],
   "source": [
    "print('Title: ',collection.title)\n",
    "# look into pretty print\n",
    "print('Description: ',collection.description)"
   ]
  },
  {
   "cell_type": "markdown",
   "id": "05bfc066-b41a-4220-ac2e-16320a8076a9",
   "metadata": {},
   "source": [
    "## Get all items "
   ]
  },
  {
   "cell_type": "code",
   "execution_count": 21,
   "id": "68bab6a9-f072-47b8-b5c8-7c5f01410cc8",
   "metadata": {},
   "outputs": [
    {
     "name": "stdout",
     "output_type": "stream",
     "text": [
      "Number of items: 22\n"
     ]
    }
   ],
   "source": [
    "items = list(collection.get_all_items())\n",
    "\n",
    "print(f\"Number of items: {len(items)}\")"
   ]
  },
  {
   "cell_type": "markdown",
   "id": "f88665fd-57a4-4bc6-8b16-ea07075cae20",
   "metadata": {},
   "source": [
    "## Explore an item\n",
    "\n",
    "We will select one item and explore its metadata."
   ]
  },
  {
   "cell_type": "code",
   "execution_count": 23,
   "id": "b30c5154-9ab2-49f2-9f0c-e7937ef777cb",
   "metadata": {},
   "outputs": [],
   "source": [
    "daily_sh_2023_item = collection.get_item(\"seaice_conc_daily_sh_2023_v04r00\", recursive=True)"
   ]
  },
  {
   "cell_type": "code",
   "execution_count": 24,
   "id": "35e427c0-5f23-4337-8af3-a73821c25332",
   "metadata": {},
   "outputs": [
    {
     "data": {
      "text/plain": [
       "{'type': 'Polygon',\n",
       " 'coordinates': [[[180.0, -90.0],\n",
       "   [180.0, -41.45],\n",
       "   [-180.0, -41.45],\n",
       "   [-180.0, -90.0],\n",
       "   [180.0, -90.0]]]}"
      ]
     },
     "execution_count": 24,
     "metadata": {},
     "output_type": "execute_result"
    }
   ],
   "source": [
    "daily_sh_2023_item.geometry"
   ]
  },
  {
   "cell_type": "code",
   "execution_count": 25,
   "id": "3c02dc5e-7a57-46a1-aeee-7222f1a1519b",
   "metadata": {},
   "outputs": [
    {
     "data": {
      "text/plain": [
       "[-180.0, -90.0, 180.0, -41.45]"
      ]
     },
     "execution_count": 25,
     "metadata": {},
     "output_type": "execute_result"
    }
   ],
   "source": [
    "daily_sh_2023_item.bbox"
   ]
  },
  {
   "cell_type": "code",
   "execution_count": 33,
   "id": "256a2500-f8b6-4f0d-9b5a-bca39087ee82",
   "metadata": {},
   "outputs": [
    {
     "data": {
      "text/plain": [
       "'2023-01-01T00:00:00Z'"
      ]
     },
     "execution_count": 33,
     "metadata": {},
     "output_type": "execute_result"
    }
   ],
   "source": [
    "daily_sh_2023_item.properties['start_datetime']\n"
   ]
  },
  {
   "cell_type": "code",
   "execution_count": 34,
   "id": "038927d2-402e-4802-b750-7b87ddca4049",
   "metadata": {},
   "outputs": [
    {
     "data": {
      "text/plain": [
       "'2023-12-31T23:59:59Z'"
      ]
     },
     "execution_count": 34,
     "metadata": {},
     "output_type": "execute_result"
    }
   ],
   "source": [
    "daily_sh_2023_item.properties['end_datetime']\n"
   ]
  },
  {
   "cell_type": "code",
   "execution_count": 36,
   "id": "eea0b694-dbba-4a03-a807-db9ce732ddd6",
   "metadata": {},
   "outputs": [],
   "source": [
    "daily_sh_2023_item.set_datetime(daily_sh_2023_item.properties['start_datetime'])"
   ]
  },
  {
   "cell_type": "code",
   "execution_count": 37,
   "id": "4205bd02-d688-4b37-aaa1-b14eb840a064",
   "metadata": {},
   "outputs": [
    {
     "data": {
      "text/plain": [
       "'2023-01-01T00:00:00Z'"
      ]
     },
     "execution_count": 37,
     "metadata": {},
     "output_type": "execute_result"
    }
   ],
   "source": [
    "daily_sh_2023_item.datetime"
   ]
  },
  {
   "cell_type": "markdown",
   "id": "734a2017-4e04-4f57-be7a-8c0fdb53e23f",
   "metadata": {},
   "source": [
    "## Read NetCDF"
   ]
  },
  {
   "cell_type": "code",
   "execution_count": 43,
   "id": "baca2d4c-1390-420c-b36e-152a97756c73",
   "metadata": {},
   "outputs": [
    {
     "data": {
      "text/html": [
       "\n",
       "\n",
       "<style>\n",
       ".pystac-summary {\n",
       "    cursor: pointer;\n",
       "    display: list-item;\n",
       "    list-style: revert;\n",
       "    margin-bottom: 0 !important;\n",
       "\n",
       "    .pystac-l {\n",
       "        padding-left: 0.5em;\n",
       "        color: rgb(64, 128, 128);\n",
       "        font-style: italic;\n",
       "    }\n",
       "}\n",
       ".pystac-row {\n",
       "    overflow-wrap: break-word;\n",
       "    padding-left: .825em;\n",
       "\n",
       "    .pystac-k {\n",
       "        display: inline-block;\n",
       "        margin: 0px 0.5em 0px 0px;\n",
       "    }\n",
       "    .pystac-v {\n",
       "        color: rgb(186, 33, 33);\n",
       "    }\n",
       "}\n",
       ".pystac-k {\n",
       "    color: rgb(0, 128, 0);\n",
       "    font-weight: 700;\n",
       "}\n",
       "</style>\n",
       "<div class=\"jp-RenderedJSON jp-mod-trusted jp-OutputArea-output\">\n",
       "    <div class=\"container\" style=\"line-height: normal;\">\n",
       "        <ul style=\"padding: 0px; margin: 0px; list-style: none; display: block;\">\n",
       "            \n",
       "                \n",
       "                    \n",
       "        <li class=\"pystac-row\">\n",
       "            <span class=\"pystac-k\">href</span>\n",
       "            <span class=\"pystac-v\">\"https://noaadata.apps.nsidc.org/NOAA/G02202_V4/south/aggregate/seaice_conc_daily_sh_2023_v04r00.nc\"</span>\n",
       "        </li>\n",
       "    \n",
       "                \n",
       "            \n",
       "                \n",
       "                    \n",
       "        <li class=\"pystac-row\">\n",
       "            <span class=\"pystac-k\">type</span>\n",
       "            <span class=\"pystac-v\">\"application/x-netcdf\"</span>\n",
       "        </li>\n",
       "    \n",
       "                \n",
       "            \n",
       "                \n",
       "                    \n",
       "        <li class=\"pystac-row\">\n",
       "            <span class=\"pystac-k\">title</span>\n",
       "            <span class=\"pystac-v\">\"NOAA/NSIDC Climate Data Record of Passive Microwave Sea Ice Concentration Version 4 NetCDF\"</span>\n",
       "        </li>\n",
       "    \n",
       "                \n",
       "            \n",
       "                \n",
       "                    \n",
       "        <li class=\"pystac-row\">\n",
       "            <span class=\"pystac-k\">description</span>\n",
       "            <span class=\"pystac-v\">\"This data set provides a passive microwave sea ice concentration climate data record (CDR) based on gridded brightness temperatures (TBs) from the Defense Meteorological Satellite Program (DMSP) series of passive microwave radiometers: the Nimbus-7 Scanning Multichannel Microwave Radiometer (SMMR), the Special Sensor Microwave Imager (SSM/I) and the Special Sensor Microwave Imager/Sounder (SSMIS). The sea ice concentration CDR is an estimate of sea ice concentration that is produced by combining concentration estimates from two algorithms developed at the NASA Goddard Space Flight Center (GSFC): the NASA Team algorithm and the Bootstrap algorithm. The individual algorithms are used to process and combine brightness temperatures at NSIDC. This product is designed to provide a consistent time series of sea ice concentrations (the fraction, or percentage, of ocean area covered by sea ice) from November 1978 to the present which spans the coverage of several passive microwave instruments. The data are gridded on the NSIDC polar stereographic grid with 25 x 25 km grid cells, and are available in NetCDF file format. Each file contains a variable with the CDR concentration values as well as variables that hold the NASA Team and Bootstrap processed concentrations for reference. Variables containing standard deviation, quality flags, and projection information are also included. Data are available via FTP.\"</span>\n",
       "        </li>\n",
       "    \n",
       "                \n",
       "            \n",
       "                \n",
       "                    \n",
       "        <li class=\"pystac-row\">\n",
       "            <span class=\"pystac-k\">created</span>\n",
       "            <span class=\"pystac-v\">\"2023-09-26T20:17:19Z\"</span>\n",
       "        </li>\n",
       "    \n",
       "                \n",
       "            \n",
       "                \n",
       "                    <li><details>\n",
       "        <summary class=\"pystac-summary\"><span class=\"pystac-k\">roles</span><span class=\"pystac-l\">[] 1 items</span></summary>\n",
       "        \n",
       "            <ul style=\"margin: 0px; padding: 0px 0px 0px 1.75em; list-style: none; display: block;\">\n",
       "        \n",
       "            \n",
       "                \n",
       "        <li class=\"pystac-row\">\n",
       "            <span class=\"pystac-k\">0</span>\n",
       "            <span class=\"pystac-v\">\"data\"</span>\n",
       "        </li>\n",
       "    \n",
       "            \n",
       "        \n",
       "    </ul>\n",
       "        \n",
       "    </details></li>\n",
       "                \n",
       "            \n",
       "        </ul>\n",
       "    </div>\n",
       "</div>"
      ],
      "text/plain": [
       "<Asset href=https://noaadata.apps.nsidc.org/NOAA/G02202_V4/south/aggregate/seaice_conc_daily_sh_2023_v04r00.nc>"
      ]
     },
     "execution_count": 43,
     "metadata": {},
     "output_type": "execute_result"
    }
   ],
   "source": [
    "# Access the NetCDF asset and see the components\n",
    "daily_sh_2023_item.assets['netcdf']"
   ]
  },
  {
   "cell_type": "code",
   "execution_count": 44,
   "id": "c8ab0e89-2b8c-44b7-81ab-5e5309f9ded5",
   "metadata": {},
   "outputs": [
    {
     "data": {
      "text/plain": [
       "'https://noaadata.apps.nsidc.org/NOAA/G02202_V4/south/aggregate/seaice_conc_daily_sh_2023_v04r00.nc'"
      ]
     },
     "execution_count": 44,
     "metadata": {},
     "output_type": "execute_result"
    }
   ],
   "source": [
    "netcdf_url = daily_sh_2023_item.assets['netcdf'].href\n",
    "netcdf_url"
   ]
  },
  {
   "cell_type": "code",
   "execution_count": 49,
   "id": "e8d0cec9-cba5-4ca6-9c78-30e1eb06c3d0",
   "metadata": {},
   "outputs": [
    {
     "name": "stderr",
     "output_type": "stream",
     "text": [
      "syntax error, unexpected WORD_WORD, expecting SCAN_ATTR or SCAN_DATASET or SCAN_ERROR\n",
      "context: <html^><head><title>404 Not Found</title></head><body><center><h1>404 Not Found</h1></center><hr><center>nginx/1.23.4</center></body></html>\n"
     ]
    },
    {
     "ename": "OSError",
     "evalue": "[Errno -90] NetCDF: file not found: 'https://noaadata.apps.nsidc.org/NOAA/G02202_V4/south/aggregate/seaice_conc_daily_sh_2023_v04r00.nc'",
     "output_type": "error",
     "traceback": [
      "\u001b[0;31m---------------------------------------------------------------------------\u001b[0m",
      "\u001b[0;31mOSError\u001b[0m                                   Traceback (most recent call last)",
      "Cell \u001b[0;32mIn[49], line 1\u001b[0m\n\u001b[0;32m----> 1\u001b[0m f \u001b[38;5;241m=\u001b[39m \u001b[43mDataset\u001b[49m\u001b[43m(\u001b[49m\u001b[38;5;124;43m'\u001b[39;49m\u001b[38;5;124;43mhttps://noaadata.apps.nsidc.org/NOAA/G02202_V4/south/aggregate/seaice_conc_daily_sh_2023_v04r00.nc\u001b[39;49m\u001b[38;5;124;43m'\u001b[39;49m\u001b[43m)\u001b[49m\n",
      "File \u001b[0;32msrc/netCDF4/_netCDF4.pyx:2470\u001b[0m, in \u001b[0;36mnetCDF4._netCDF4.Dataset.__init__\u001b[0;34m()\u001b[0m\n",
      "File \u001b[0;32msrc/netCDF4/_netCDF4.pyx:2107\u001b[0m, in \u001b[0;36mnetCDF4._netCDF4._ensure_nc_success\u001b[0;34m()\u001b[0m\n",
      "\u001b[0;31mOSError\u001b[0m: [Errno -90] NetCDF: file not found: 'https://noaadata.apps.nsidc.org/NOAA/G02202_V4/south/aggregate/seaice_conc_daily_sh_2023_v04r00.nc'"
     ]
    }
   ],
   "source": [
    "f = Dataset('https://noaadata.apps.nsidc.org/NOAA/G02202_V4/south/aggregate/seaice_conc_daily_sh_2023_v04r00.nc')"
   ]
  },
  {
   "cell_type": "code",
   "execution_count": null,
   "id": "35c3ec2f-4b25-43cb-9103-b53ce36e99f0",
   "metadata": {},
   "outputs": [],
   "source": []
  }
 ],
 "metadata": {
  "kernelspec": {
   "display_name": "Python 3 (ipykernel)",
   "language": "python",
   "name": "python3"
  },
  "language_info": {
   "codemirror_mode": {
    "name": "ipython",
    "version": 3
   },
   "file_extension": ".py",
   "mimetype": "text/x-python",
   "name": "python",
   "nbconvert_exporter": "python",
   "pygments_lexer": "ipython3",
   "version": "3.11.9"
  }
 },
 "nbformat": 4,
 "nbformat_minor": 5
}
