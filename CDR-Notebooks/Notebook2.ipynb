{
 "cells": [
  {
   "cell_type": "markdown",
   "id": "e9787766-5b49-4551-996c-7269b4b6516a",
   "metadata": {},
   "source": [
    "# Chapter 2: Opening and Reading NetCDF files using STAC\n",
    "Creators: Ann Windnagel and Robyn Marowitz\n",
    "\n",
    "Affiliation: [National Snow And Ice Data Center](https://nsidc.org/home)"
   ]
  },
  {
   "cell_type": "markdown",
   "id": "e74fb48e-86c4-4850-92bd-9fa8353c2166",
   "metadata": {},
   "source": [
    "## Learning Objectives\n",
    "\n",
    "In this notebook we will learn how to open and read NetCDF files using STAC. While we do this we will explore the features and vairables of the STAC Collection and Items."
   ]
  },
  {
   "cell_type": "markdown",
   "id": "4cdd7849-fc2d-4053-9a67-8c61ddd74bcc",
   "metadata": {},
   "source": [
    "### Import relevant packages\n",
    "If you're interested in learning more the documentation for each package is available and can be very informative. \n",
    "\n",
    "We will use [pystac](https://pystac.readthedocs.io/en/stable/) to explore our STAC collection and items and their details. [NetCDF4](https://pystac.readthedocs.io/en/stable/) is a Python interface to the netCDF C library. That is used to read in information from NetCDF files. [Xarray](https://docs.xarray.dev/en/stable/) makes working with labelled multi-dimensional arrays, such as NetCDF, in Python simple and efficient.\n"
   ]
  },
  {
   "cell_type": "code",
   "execution_count": 1,
   "id": "51444843-2eaa-49b9-bb2c-ad9fc251eaa8",
   "metadata": {},
   "outputs": [],
   "source": [
    "import xarray as xr\n",
    "import numpy\n",
    "import pandas\n",
    "import packaging\n",
    "import aiohttp\n",
    "\n",
    "import fsspec\n",
    "import pystac\n",
    "import netCDF4\n",
    "from netCDF4 import Dataset\n",
    "import h5netcdf"
   ]
  },
  {
   "cell_type": "markdown",
   "id": "07d02a66-bde4-4615-b260-82dd1d278aa3",
   "metadata": {},
   "source": [
    "## STAC Collections\n",
    "\n",
    "[A STAC Collection](https://github.com/radiantearth/stac-spec/tree/master/collection-spec) object is used to describe a group of reltaed Items.  \n",
    "\n",
    "To begin we will assign our `collection.json` to a variable `collection` so that we can explore it using `pystac`."
   ]
  },
  {
   "cell_type": "code",
   "execution_count": 2,
   "id": "b44093a6-a9d0-499a-bc4a-83d4f5c85457",
   "metadata": {},
   "outputs": [],
   "source": [
    "collection = pystac.Collection.from_file('https://noaadata.apps.nsidc.org/NOAA/G02202_V4/stac/collection.json')"
   ]
  },
  {
   "cell_type": "markdown",
   "id": "6d66dc57-1e9f-4e35-bbec-a699ff2929a6",
   "metadata": {},
   "source": [
    "## Explore Collection Information\n",
    "\n",
    "In the following cells we will look at how the Collection is organized. Using the `describe` method we will see all of the `Items` listed. In the `Item id` there is already a wealth of information - `nh` means northern hemisphere and `sh` means southern hemisphere."
   ]
  },
  {
   "cell_type": "code",
   "execution_count": 3,
   "id": "e806a400-818e-45b8-8f6e-69ef66ac1e11",
   "metadata": {
    "scrolled": true
   },
   "outputs": [
    {
     "name": "stdout",
     "output_type": "stream",
     "text": [
      "* <Collection id=noaa-cdr-sea-ice-concentration>\n",
      "  * <Item id=seaice_conc_daily_nh_1996_v04r00>\n",
      "  * <Item id=seaice_conc_monthly_nh_197811_202312_v04r00>\n",
      "  * <Item id=seaice_conc_monthly_sh_197811_202312_v04r00>\n",
      "  * <Item id=seaice_conc_daily_sh_2023_v04r00>\n",
      "  * <Item id=seaice_conc_daily_sh_2022_v04r00>\n",
      "  * <Item id=seaice_conc_daily_sh_2021_v04r00>\n",
      "  * <Item id=seaice_conc_daily_sh_2020_v04r00>\n",
      "  * <Item id=seaice_conc_daily_sh_2019_v04r00>\n",
      "  * <Item id=seaice_conc_daily_sh_2018_v04r00>\n",
      "  * <Item id=seaice_conc_daily_sh_2017_v04r00>\n",
      "  * <Item id=seaice_conc_daily_sh_2016_v04r00>\n",
      "  * <Item id=seaice_conc_daily_sh_2015_v04r00>\n",
      "  * <Item id=seaice_conc_daily_sh_2014_v04r00>\n",
      "  * <Item id=seaice_conc_daily_sh_2013_v04r00>\n",
      "  * <Item id=seaice_conc_daily_sh_2012_v04r00>\n",
      "  * <Item id=seaice_conc_daily_sh_2011_v04r00>\n",
      "  * <Item id=seaice_conc_daily_sh_2010_v04r00>\n",
      "  * <Item id=seaice_conc_daily_sh_2009_v04r00>\n",
      "  * <Item id=seaice_conc_daily_sh_2008_v04r00>\n",
      "  * <Item id=seaice_conc_daily_sh_2005_v04r00>\n",
      "  * <Item id=seaice_conc_daily_nh_2023_v04r00>\n",
      "  * <Item id=seaice_conc_daily_nh_2022_v04r00>\n"
     ]
    }
   ],
   "source": [
    "collection.describe()"
   ]
  },
  {
   "cell_type": "code",
   "execution_count": 4,
   "id": "07d64714-6358-42b8-a96d-aabaccc02e89",
   "metadata": {},
   "outputs": [
    {
     "name": "stdout",
     "output_type": "stream",
     "text": [
      "Title:  Sea Ice Concentration CDR\n",
      "Description:  The Sea Ice Concentration Climate Data Record (CDR) provides a consistent daily and monthly time series of sea ice concentrations for both the north and south Polar Regions on a 25 km x 25 km grid. These data can be used to estimate how much of the ocean surface is covered by ice, and monitor changes in sea ice concentration. The CDR combines concentration estimates using two algorithms developed at the NASA Goddard Space Flight Center (GSFC). Gridded brightness temperatures acquired from a number of Defense Meteorological Satellite Program (DMSP) passive microwave radiometers provide the necessary input to produce the dataset.\n"
     ]
    }
   ],
   "source": [
    "print('Title: ',collection.title)\n",
    "# look into pretty print\n",
    "print('Description: ',collection.description)"
   ]
  },
  {
   "cell_type": "markdown",
   "id": "05bfc066-b41a-4220-ac2e-16320a8076a9",
   "metadata": {},
   "source": [
    "## Get all items "
   ]
  },
  {
   "cell_type": "code",
   "execution_count": 5,
   "id": "68bab6a9-f072-47b8-b5c8-7c5f01410cc8",
   "metadata": {},
   "outputs": [
    {
     "name": "stdout",
     "output_type": "stream",
     "text": [
      "Number of items: 22\n"
     ]
    }
   ],
   "source": [
    "items = list(collection.get_all_items())\n",
    "\n",
    "print(f\"Number of items: {len(items)}\")"
   ]
  },
  {
   "cell_type": "markdown",
   "id": "f88665fd-57a4-4bc6-8b16-ea07075cae20",
   "metadata": {},
   "source": [
    "## Explore an item\n",
    "\n",
    "We will select one item and explore its metadata."
   ]
  },
  {
   "cell_type": "code",
   "execution_count": 6,
   "id": "b30c5154-9ab2-49f2-9f0c-e7937ef777cb",
   "metadata": {},
   "outputs": [],
   "source": [
    "daily_sh_2023_item = collection.get_item(\"seaice_conc_daily_sh_2023_v04r00\", recursive=True)"
   ]
  },
  {
   "cell_type": "code",
   "execution_count": 7,
   "id": "35e427c0-5f23-4337-8af3-a73821c25332",
   "metadata": {},
   "outputs": [
    {
     "data": {
      "text/plain": [
       "{'type': 'Polygon',\n",
       " 'coordinates': [[[180.0, -90.0],\n",
       "   [180.0, -41.45],\n",
       "   [-180.0, -41.45],\n",
       "   [-180.0, -90.0],\n",
       "   [180.0, -90.0]]]}"
      ]
     },
     "execution_count": 7,
     "metadata": {},
     "output_type": "execute_result"
    }
   ],
   "source": [
    "daily_sh_2023_item.geometry"
   ]
  },
  {
   "cell_type": "code",
   "execution_count": 8,
   "id": "3c02dc5e-7a57-46a1-aeee-7222f1a1519b",
   "metadata": {},
   "outputs": [
    {
     "data": {
      "text/plain": [
       "[-180.0, -90.0, 180.0, -41.45]"
      ]
     },
     "execution_count": 8,
     "metadata": {},
     "output_type": "execute_result"
    }
   ],
   "source": [
    "daily_sh_2023_item.bbox"
   ]
  },
  {
   "cell_type": "code",
   "execution_count": 9,
   "id": "256a2500-f8b6-4f0d-9b5a-bca39087ee82",
   "metadata": {},
   "outputs": [
    {
     "data": {
      "text/plain": [
       "'2023-01-01T00:00:00Z'"
      ]
     },
     "execution_count": 9,
     "metadata": {},
     "output_type": "execute_result"
    }
   ],
   "source": [
    "daily_sh_2023_item.properties['start_datetime']\n"
   ]
  },
  {
   "cell_type": "code",
   "execution_count": 10,
   "id": "038927d2-402e-4802-b750-7b87ddca4049",
   "metadata": {},
   "outputs": [
    {
     "data": {
      "text/plain": [
       "'2023-12-31T23:59:59Z'"
      ]
     },
     "execution_count": 10,
     "metadata": {},
     "output_type": "execute_result"
    }
   ],
   "source": [
    "daily_sh_2023_item.properties['end_datetime']\n"
   ]
  },
  {
   "cell_type": "code",
   "execution_count": 11,
   "id": "eea0b694-dbba-4a03-a807-db9ce732ddd6",
   "metadata": {},
   "outputs": [],
   "source": [
    "daily_sh_2023_item.set_datetime(daily_sh_2023_item.properties['start_datetime'])"
   ]
  },
  {
   "cell_type": "code",
   "execution_count": 12,
   "id": "4205bd02-d688-4b37-aaa1-b14eb840a064",
   "metadata": {},
   "outputs": [
    {
     "data": {
      "text/plain": [
       "'2023-01-01T00:00:00Z'"
      ]
     },
     "execution_count": 12,
     "metadata": {},
     "output_type": "execute_result"
    }
   ],
   "source": [
    "daily_sh_2023_item.datetime"
   ]
  },
  {
   "cell_type": "markdown",
   "id": "734a2017-4e04-4f57-be7a-8c0fdb53e23f",
   "metadata": {},
   "source": [
    "## Read NetCDF"
   ]
  },
  {
   "cell_type": "code",
   "execution_count": 13,
   "id": "baca2d4c-1390-420c-b36e-152a97756c73",
   "metadata": {},
   "outputs": [
    {
     "data": {
      "text/html": [
       "\n",
       "\n",
       "<style>\n",
       ".pystac-summary {\n",
       "    cursor: pointer;\n",
       "    display: list-item;\n",
       "    list-style: revert;\n",
       "    margin-bottom: 0 !important;\n",
       "\n",
       "    .pystac-l {\n",
       "        padding-left: 0.5em;\n",
       "        color: rgb(64, 128, 128);\n",
       "        font-style: italic;\n",
       "    }\n",
       "}\n",
       ".pystac-row {\n",
       "    overflow-wrap: break-word;\n",
       "    padding-left: .825em;\n",
       "\n",
       "    .pystac-k {\n",
       "        display: inline-block;\n",
       "        margin: 0px 0.5em 0px 0px;\n",
       "    }\n",
       "    .pystac-v {\n",
       "        color: rgb(186, 33, 33);\n",
       "    }\n",
       "}\n",
       ".pystac-k {\n",
       "    color: rgb(0, 128, 0);\n",
       "    font-weight: 700;\n",
       "}\n",
       "</style>\n",
       "<div class=\"jp-RenderedJSON jp-mod-trusted jp-OutputArea-output\">\n",
       "    <div class=\"container\" style=\"line-height: normal;\">\n",
       "        <ul style=\"padding: 0px; margin: 0px; list-style: none; display: block;\">\n",
       "            \n",
       "                \n",
       "                    \n",
       "        <li class=\"pystac-row\">\n",
       "            <span class=\"pystac-k\">href</span>\n",
       "            <span class=\"pystac-v\">\"https://noaadata.apps.nsidc.org/NOAA/G02202_V4/south/aggregate/seaice_conc_daily_sh_2023_v04r00.nc\"</span>\n",
       "        </li>\n",
       "    \n",
       "                \n",
       "            \n",
       "                \n",
       "                    \n",
       "        <li class=\"pystac-row\">\n",
       "            <span class=\"pystac-k\">type</span>\n",
       "            <span class=\"pystac-v\">\"application/x-netcdf\"</span>\n",
       "        </li>\n",
       "    \n",
       "                \n",
       "            \n",
       "                \n",
       "                    \n",
       "        <li class=\"pystac-row\">\n",
       "            <span class=\"pystac-k\">title</span>\n",
       "            <span class=\"pystac-v\">\"NOAA/NSIDC Climate Data Record of Passive Microwave Sea Ice Concentration Version 4 NetCDF\"</span>\n",
       "        </li>\n",
       "    \n",
       "                \n",
       "            \n",
       "                \n",
       "                    \n",
       "        <li class=\"pystac-row\">\n",
       "            <span class=\"pystac-k\">description</span>\n",
       "            <span class=\"pystac-v\">\"This data set provides a passive microwave sea ice concentration climate data record (CDR) based on gridded brightness temperatures (TBs) from the Defense Meteorological Satellite Program (DMSP) series of passive microwave radiometers: the Nimbus-7 Scanning Multichannel Microwave Radiometer (SMMR), the Special Sensor Microwave Imager (SSM/I) and the Special Sensor Microwave Imager/Sounder (SSMIS). The sea ice concentration CDR is an estimate of sea ice concentration that is produced by combining concentration estimates from two algorithms developed at the NASA Goddard Space Flight Center (GSFC): the NASA Team algorithm and the Bootstrap algorithm. The individual algorithms are used to process and combine brightness temperatures at NSIDC. This product is designed to provide a consistent time series of sea ice concentrations (the fraction, or percentage, of ocean area covered by sea ice) from November 1978 to the present which spans the coverage of several passive microwave instruments. The data are gridded on the NSIDC polar stereographic grid with 25 x 25 km grid cells, and are available in NetCDF file format. Each file contains a variable with the CDR concentration values as well as variables that hold the NASA Team and Bootstrap processed concentrations for reference. Variables containing standard deviation, quality flags, and projection information are also included. Data are available via FTP.\"</span>\n",
       "        </li>\n",
       "    \n",
       "                \n",
       "            \n",
       "                \n",
       "                    \n",
       "        <li class=\"pystac-row\">\n",
       "            <span class=\"pystac-k\">created</span>\n",
       "            <span class=\"pystac-v\">\"2023-09-26T20:17:19Z\"</span>\n",
       "        </li>\n",
       "    \n",
       "                \n",
       "            \n",
       "                \n",
       "                    <li><details>\n",
       "        <summary class=\"pystac-summary\"><span class=\"pystac-k\">roles</span><span class=\"pystac-l\">[] 1 items</span></summary>\n",
       "        \n",
       "            <ul style=\"margin: 0px; padding: 0px 0px 0px 1.75em; list-style: none; display: block;\">\n",
       "        \n",
       "            \n",
       "                \n",
       "        <li class=\"pystac-row\">\n",
       "            <span class=\"pystac-k\">0</span>\n",
       "            <span class=\"pystac-v\">\"data\"</span>\n",
       "        </li>\n",
       "    \n",
       "            \n",
       "        \n",
       "    </ul>\n",
       "        \n",
       "    </details></li>\n",
       "                \n",
       "            \n",
       "        </ul>\n",
       "    </div>\n",
       "</div>"
      ],
      "text/plain": [
       "<Asset href=https://noaadata.apps.nsidc.org/NOAA/G02202_V4/south/aggregate/seaice_conc_daily_sh_2023_v04r00.nc>"
      ]
     },
     "execution_count": 13,
     "metadata": {},
     "output_type": "execute_result"
    }
   ],
   "source": [
    "# Access the NetCDF asset and see the components\n",
    "daily_sh_2023_item.assets['netcdf']"
   ]
  },
  {
   "cell_type": "code",
   "execution_count": 14,
   "id": "c8ab0e89-2b8c-44b7-81ab-5e5309f9ded5",
   "metadata": {},
   "outputs": [
    {
     "data": {
      "text/plain": [
       "'https://noaadata.apps.nsidc.org/NOAA/G02202_V4/south/aggregate/seaice_conc_daily_sh_2023_v04r00.nc'"
      ]
     },
     "execution_count": 14,
     "metadata": {},
     "output_type": "execute_result"
    }
   ],
   "source": [
    "netcdf_url = daily_sh_2023_item.assets['netcdf'].href\n",
    "netcdf_url"
   ]
  },
  {
   "cell_type": "code",
   "execution_count": 15,
   "id": "e8d0cec9-cba5-4ca6-9c78-30e1eb06c3d0",
   "metadata": {},
   "outputs": [
    {
     "data": {
      "text/html": [
       "<div><svg style=\"position: absolute; width: 0; height: 0; overflow: hidden\">\n",
       "<defs>\n",
       "<symbol id=\"icon-database\" viewBox=\"0 0 32 32\">\n",
       "<path d=\"M16 0c-8.837 0-16 2.239-16 5v4c0 2.761 7.163 5 16 5s16-2.239 16-5v-4c0-2.761-7.163-5-16-5z\"></path>\n",
       "<path d=\"M16 17c-8.837 0-16-2.239-16-5v6c0 2.761 7.163 5 16 5s16-2.239 16-5v-6c0 2.761-7.163 5-16 5z\"></path>\n",
       "<path d=\"M16 26c-8.837 0-16-2.239-16-5v6c0 2.761 7.163 5 16 5s16-2.239 16-5v-6c0 2.761-7.163 5-16 5z\"></path>\n",
       "</symbol>\n",
       "<symbol id=\"icon-file-text2\" viewBox=\"0 0 32 32\">\n",
       "<path d=\"M28.681 7.159c-0.694-0.947-1.662-2.053-2.724-3.116s-2.169-2.030-3.116-2.724c-1.612-1.182-2.393-1.319-2.841-1.319h-15.5c-1.378 0-2.5 1.121-2.5 2.5v27c0 1.378 1.122 2.5 2.5 2.5h23c1.378 0 2.5-1.122 2.5-2.5v-19.5c0-0.448-0.137-1.23-1.319-2.841zM24.543 5.457c0.959 0.959 1.712 1.825 2.268 2.543h-4.811v-4.811c0.718 0.556 1.584 1.309 2.543 2.268zM28 29.5c0 0.271-0.229 0.5-0.5 0.5h-23c-0.271 0-0.5-0.229-0.5-0.5v-27c0-0.271 0.229-0.5 0.5-0.5 0 0 15.499-0 15.5 0v7c0 0.552 0.448 1 1 1h7v19.5z\"></path>\n",
       "<path d=\"M23 26h-14c-0.552 0-1-0.448-1-1s0.448-1 1-1h14c0.552 0 1 0.448 1 1s-0.448 1-1 1z\"></path>\n",
       "<path d=\"M23 22h-14c-0.552 0-1-0.448-1-1s0.448-1 1-1h14c0.552 0 1 0.448 1 1s-0.448 1-1 1z\"></path>\n",
       "<path d=\"M23 18h-14c-0.552 0-1-0.448-1-1s0.448-1 1-1h14c0.552 0 1 0.448 1 1s-0.448 1-1 1z\"></path>\n",
       "</symbol>\n",
       "</defs>\n",
       "</svg>\n",
       "<style>/* CSS stylesheet for displaying xarray objects in jupyterlab.\n",
       " *\n",
       " */\n",
       "\n",
       ":root {\n",
       "  --xr-font-color0: var(--jp-content-font-color0, rgba(0, 0, 0, 1));\n",
       "  --xr-font-color2: var(--jp-content-font-color2, rgba(0, 0, 0, 0.54));\n",
       "  --xr-font-color3: var(--jp-content-font-color3, rgba(0, 0, 0, 0.38));\n",
       "  --xr-border-color: var(--jp-border-color2, #e0e0e0);\n",
       "  --xr-disabled-color: var(--jp-layout-color3, #bdbdbd);\n",
       "  --xr-background-color: var(--jp-layout-color0, white);\n",
       "  --xr-background-color-row-even: var(--jp-layout-color1, white);\n",
       "  --xr-background-color-row-odd: var(--jp-layout-color2, #eeeeee);\n",
       "}\n",
       "\n",
       "html[theme=dark],\n",
       "body[data-theme=dark],\n",
       "body.vscode-dark {\n",
       "  --xr-font-color0: rgba(255, 255, 255, 1);\n",
       "  --xr-font-color2: rgba(255, 255, 255, 0.54);\n",
       "  --xr-font-color3: rgba(255, 255, 255, 0.38);\n",
       "  --xr-border-color: #1F1F1F;\n",
       "  --xr-disabled-color: #515151;\n",
       "  --xr-background-color: #111111;\n",
       "  --xr-background-color-row-even: #111111;\n",
       "  --xr-background-color-row-odd: #313131;\n",
       "}\n",
       "\n",
       ".xr-wrap {\n",
       "  display: block !important;\n",
       "  min-width: 300px;\n",
       "  max-width: 700px;\n",
       "}\n",
       "\n",
       ".xr-text-repr-fallback {\n",
       "  /* fallback to plain text repr when CSS is not injected (untrusted notebook) */\n",
       "  display: none;\n",
       "}\n",
       "\n",
       ".xr-header {\n",
       "  padding-top: 6px;\n",
       "  padding-bottom: 6px;\n",
       "  margin-bottom: 4px;\n",
       "  border-bottom: solid 1px var(--xr-border-color);\n",
       "}\n",
       "\n",
       ".xr-header > div,\n",
       ".xr-header > ul {\n",
       "  display: inline;\n",
       "  margin-top: 0;\n",
       "  margin-bottom: 0;\n",
       "}\n",
       "\n",
       ".xr-obj-type,\n",
       ".xr-array-name {\n",
       "  margin-left: 2px;\n",
       "  margin-right: 10px;\n",
       "}\n",
       "\n",
       ".xr-obj-type {\n",
       "  color: var(--xr-font-color2);\n",
       "}\n",
       "\n",
       ".xr-sections {\n",
       "  padding-left: 0 !important;\n",
       "  display: grid;\n",
       "  grid-template-columns: 150px auto auto 1fr 20px 20px;\n",
       "}\n",
       "\n",
       ".xr-section-item {\n",
       "  display: contents;\n",
       "}\n",
       "\n",
       ".xr-section-item input {\n",
       "  display: none;\n",
       "}\n",
       "\n",
       ".xr-section-item input + label {\n",
       "  color: var(--xr-disabled-color);\n",
       "}\n",
       "\n",
       ".xr-section-item input:enabled + label {\n",
       "  cursor: pointer;\n",
       "  color: var(--xr-font-color2);\n",
       "}\n",
       "\n",
       ".xr-section-item input:enabled + label:hover {\n",
       "  color: var(--xr-font-color0);\n",
       "}\n",
       "\n",
       ".xr-section-summary {\n",
       "  grid-column: 1;\n",
       "  color: var(--xr-font-color2);\n",
       "  font-weight: 500;\n",
       "}\n",
       "\n",
       ".xr-section-summary > span {\n",
       "  display: inline-block;\n",
       "  padding-left: 0.5em;\n",
       "}\n",
       "\n",
       ".xr-section-summary-in:disabled + label {\n",
       "  color: var(--xr-font-color2);\n",
       "}\n",
       "\n",
       ".xr-section-summary-in + label:before {\n",
       "  display: inline-block;\n",
       "  content: '►';\n",
       "  font-size: 11px;\n",
       "  width: 15px;\n",
       "  text-align: center;\n",
       "}\n",
       "\n",
       ".xr-section-summary-in:disabled + label:before {\n",
       "  color: var(--xr-disabled-color);\n",
       "}\n",
       "\n",
       ".xr-section-summary-in:checked + label:before {\n",
       "  content: '▼';\n",
       "}\n",
       "\n",
       ".xr-section-summary-in:checked + label > span {\n",
       "  display: none;\n",
       "}\n",
       "\n",
       ".xr-section-summary,\n",
       ".xr-section-inline-details {\n",
       "  padding-top: 4px;\n",
       "  padding-bottom: 4px;\n",
       "}\n",
       "\n",
       ".xr-section-inline-details {\n",
       "  grid-column: 2 / -1;\n",
       "}\n",
       "\n",
       ".xr-section-details {\n",
       "  display: none;\n",
       "  grid-column: 1 / -1;\n",
       "  margin-bottom: 5px;\n",
       "}\n",
       "\n",
       ".xr-section-summary-in:checked ~ .xr-section-details {\n",
       "  display: contents;\n",
       "}\n",
       "\n",
       ".xr-array-wrap {\n",
       "  grid-column: 1 / -1;\n",
       "  display: grid;\n",
       "  grid-template-columns: 20px auto;\n",
       "}\n",
       "\n",
       ".xr-array-wrap > label {\n",
       "  grid-column: 1;\n",
       "  vertical-align: top;\n",
       "}\n",
       "\n",
       ".xr-preview {\n",
       "  color: var(--xr-font-color3);\n",
       "}\n",
       "\n",
       ".xr-array-preview,\n",
       ".xr-array-data {\n",
       "  padding: 0 5px !important;\n",
       "  grid-column: 2;\n",
       "}\n",
       "\n",
       ".xr-array-data,\n",
       ".xr-array-in:checked ~ .xr-array-preview {\n",
       "  display: none;\n",
       "}\n",
       "\n",
       ".xr-array-in:checked ~ .xr-array-data,\n",
       ".xr-array-preview {\n",
       "  display: inline-block;\n",
       "}\n",
       "\n",
       ".xr-dim-list {\n",
       "  display: inline-block !important;\n",
       "  list-style: none;\n",
       "  padding: 0 !important;\n",
       "  margin: 0;\n",
       "}\n",
       "\n",
       ".xr-dim-list li {\n",
       "  display: inline-block;\n",
       "  padding: 0;\n",
       "  margin: 0;\n",
       "}\n",
       "\n",
       ".xr-dim-list:before {\n",
       "  content: '(';\n",
       "}\n",
       "\n",
       ".xr-dim-list:after {\n",
       "  content: ')';\n",
       "}\n",
       "\n",
       ".xr-dim-list li:not(:last-child):after {\n",
       "  content: ',';\n",
       "  padding-right: 5px;\n",
       "}\n",
       "\n",
       ".xr-has-index {\n",
       "  font-weight: bold;\n",
       "}\n",
       "\n",
       ".xr-var-list,\n",
       ".xr-var-item {\n",
       "  display: contents;\n",
       "}\n",
       "\n",
       ".xr-var-item > div,\n",
       ".xr-var-item label,\n",
       ".xr-var-item > .xr-var-name span {\n",
       "  background-color: var(--xr-background-color-row-even);\n",
       "  margin-bottom: 0;\n",
       "}\n",
       "\n",
       ".xr-var-item > .xr-var-name:hover span {\n",
       "  padding-right: 5px;\n",
       "}\n",
       "\n",
       ".xr-var-list > li:nth-child(odd) > div,\n",
       ".xr-var-list > li:nth-child(odd) > label,\n",
       ".xr-var-list > li:nth-child(odd) > .xr-var-name span {\n",
       "  background-color: var(--xr-background-color-row-odd);\n",
       "}\n",
       "\n",
       ".xr-var-name {\n",
       "  grid-column: 1;\n",
       "}\n",
       "\n",
       ".xr-var-dims {\n",
       "  grid-column: 2;\n",
       "}\n",
       "\n",
       ".xr-var-dtype {\n",
       "  grid-column: 3;\n",
       "  text-align: right;\n",
       "  color: var(--xr-font-color2);\n",
       "}\n",
       "\n",
       ".xr-var-preview {\n",
       "  grid-column: 4;\n",
       "}\n",
       "\n",
       ".xr-index-preview {\n",
       "  grid-column: 2 / 5;\n",
       "  color: var(--xr-font-color2);\n",
       "}\n",
       "\n",
       ".xr-var-name,\n",
       ".xr-var-dims,\n",
       ".xr-var-dtype,\n",
       ".xr-preview,\n",
       ".xr-attrs dt {\n",
       "  white-space: nowrap;\n",
       "  overflow: hidden;\n",
       "  text-overflow: ellipsis;\n",
       "  padding-right: 10px;\n",
       "}\n",
       "\n",
       ".xr-var-name:hover,\n",
       ".xr-var-dims:hover,\n",
       ".xr-var-dtype:hover,\n",
       ".xr-attrs dt:hover {\n",
       "  overflow: visible;\n",
       "  width: auto;\n",
       "  z-index: 1;\n",
       "}\n",
       "\n",
       ".xr-var-attrs,\n",
       ".xr-var-data,\n",
       ".xr-index-data {\n",
       "  display: none;\n",
       "  background-color: var(--xr-background-color) !important;\n",
       "  padding-bottom: 5px !important;\n",
       "}\n",
       "\n",
       ".xr-var-attrs-in:checked ~ .xr-var-attrs,\n",
       ".xr-var-data-in:checked ~ .xr-var-data,\n",
       ".xr-index-data-in:checked ~ .xr-index-data {\n",
       "  display: block;\n",
       "}\n",
       "\n",
       ".xr-var-data > table {\n",
       "  float: right;\n",
       "}\n",
       "\n",
       ".xr-var-name span,\n",
       ".xr-var-data,\n",
       ".xr-index-name div,\n",
       ".xr-index-data,\n",
       ".xr-attrs {\n",
       "  padding-left: 25px !important;\n",
       "}\n",
       "\n",
       ".xr-attrs,\n",
       ".xr-var-attrs,\n",
       ".xr-var-data,\n",
       ".xr-index-data {\n",
       "  grid-column: 1 / -1;\n",
       "}\n",
       "\n",
       "dl.xr-attrs {\n",
       "  padding: 0;\n",
       "  margin: 0;\n",
       "  display: grid;\n",
       "  grid-template-columns: 125px auto;\n",
       "}\n",
       "\n",
       ".xr-attrs dt,\n",
       ".xr-attrs dd {\n",
       "  padding: 0;\n",
       "  margin: 0;\n",
       "  float: left;\n",
       "  padding-right: 10px;\n",
       "  width: auto;\n",
       "}\n",
       "\n",
       ".xr-attrs dt {\n",
       "  font-weight: normal;\n",
       "  grid-column: 1;\n",
       "}\n",
       "\n",
       ".xr-attrs dt:hover span {\n",
       "  display: inline-block;\n",
       "  background: var(--xr-background-color);\n",
       "  padding-right: 10px;\n",
       "}\n",
       "\n",
       ".xr-attrs dd {\n",
       "  grid-column: 2;\n",
       "  white-space: pre-wrap;\n",
       "  word-break: break-all;\n",
       "}\n",
       "\n",
       ".xr-icon-database,\n",
       ".xr-icon-file-text2,\n",
       ".xr-no-icon {\n",
       "  display: inline-block;\n",
       "  vertical-align: middle;\n",
       "  width: 1em;\n",
       "  height: 1.5em !important;\n",
       "  stroke-width: 0;\n",
       "  stroke: currentColor;\n",
       "  fill: currentColor;\n",
       "}\n",
       "</style><pre class='xr-text-repr-fallback'>&lt;xarray.Dataset&gt; Size: 1GB\n",
       "Dimensions:                      (tdim: 365, y: 332, x: 316)\n",
       "Coordinates:\n",
       "    time                         (tdim) datetime64[ns] 3kB ...\n",
       "    xgrid                        (x) float32 1kB ...\n",
       "    ygrid                        (y) float32 1kB ...\n",
       "Dimensions without coordinates: tdim, y, x\n",
       "Data variables:\n",
       "    cdr_seaice_conc              (tdim, y, x) float32 153MB ...\n",
       "    nsidc_bt_seaice_conc         (tdim, y, x) float32 153MB ...\n",
       "    nsidc_nt_seaice_conc         (tdim, y, x) float32 153MB ...\n",
       "    projection                   |S1 1B ...\n",
       "    qa_of_cdr_seaice_conc        (tdim, y, x) float32 153MB ...\n",
       "    spatial_interpolation_flag   (tdim, y, x) float32 153MB ...\n",
       "    stdev_of_cdr_seaice_conc     (tdim, y, x) float32 153MB ...\n",
       "    temporal_interpolation_flag  (tdim, y, x) float32 153MB ...\n",
       "    latitude                     (y, x) float32 420kB ...\n",
       "    longitude                    (y, x) float32 420kB ...\n",
       "Attributes: (12/39)\n",
       "    Conventions:               CF-1.6, ACDD-1.3\n",
       "    title:                     NOAA/NSIDC Climate Data Record of Passive Micr...\n",
       "    references:                Comiso, J. C., and F. Nishio. 2008. Trends in ...\n",
       "    comment:                   none\n",
       "    program:                   NOAA Climate Data Record Program\n",
       "    cdr_variable:              cdr_seaice_conc\n",
       "    ...                        ...\n",
       "    acknowledgment:            This project was supported in part by a grant ...\n",
       "    platform:                  DMSP 5D-3/F17 &gt; Defense Meteorological Satelli...\n",
       "    sensor:                    SSMI/S &gt; Special Sensor Microwave Imager/Sounder\n",
       "    date_created:              2023-09-26T20:17:19Z\n",
       "    time_coverage_start:       2023-01-01T00:00:00Z\n",
       "    time_coverage_end:         2023-12-31T23:59:59Z</pre><div class='xr-wrap' style='display:none'><div class='xr-header'><div class='xr-obj-type'>xarray.Dataset</div></div><ul class='xr-sections'><li class='xr-section-item'><input id='section-63f5eee9-cd7c-4b22-ba2f-62cb0db42e8c' class='xr-section-summary-in' type='checkbox' disabled ><label for='section-63f5eee9-cd7c-4b22-ba2f-62cb0db42e8c' class='xr-section-summary'  title='Expand/collapse section'>Dimensions:</label><div class='xr-section-inline-details'><ul class='xr-dim-list'><li><span>tdim</span>: 365</li><li><span>y</span>: 332</li><li><span>x</span>: 316</li></ul></div><div class='xr-section-details'></div></li><li class='xr-section-item'><input id='section-0b89788d-4794-41bf-870c-c49f13302448' class='xr-section-summary-in' type='checkbox'  checked><label for='section-0b89788d-4794-41bf-870c-c49f13302448' class='xr-section-summary' >Coordinates: <span>(3)</span></label><div class='xr-section-inline-details'></div><div class='xr-section-details'><ul class='xr-var-list'><li class='xr-var-item'><div class='xr-var-name'><span>time</span></div><div class='xr-var-dims'>(tdim)</div><div class='xr-var-dtype'>datetime64[ns]</div><div class='xr-var-preview xr-preview'>...</div><input id='attrs-8c0e2cfe-9720-44eb-938b-780b5c90e1d3' class='xr-var-attrs-in' type='checkbox' ><label for='attrs-8c0e2cfe-9720-44eb-938b-780b5c90e1d3' title='Show/Hide attributes'><svg class='icon xr-icon-file-text2'><use xlink:href='#icon-file-text2'></use></svg></label><input id='data-4a87f3b2-5e33-4a8e-a8b8-b86e283559b6' class='xr-var-data-in' type='checkbox'><label for='data-4a87f3b2-5e33-4a8e-a8b8-b86e283559b6' title='Show/Hide data repr'><svg class='icon xr-icon-database'><use xlink:href='#icon-database'></use></svg></label><div class='xr-var-attrs'><dl class='xr-attrs'><dt><span>standard_name :</span></dt><dd>time</dd><dt><span>long_name :</span></dt><dd>ANSI date</dd><dt><span>axis :</span></dt><dd>T</dd><dt><span>cell_methods :</span></dt><dd>tdim: mean</dd></dl></div><div class='xr-var-data'><pre>[365 values with dtype=datetime64[ns]]</pre></div></li><li class='xr-var-item'><div class='xr-var-name'><span>xgrid</span></div><div class='xr-var-dims'>(x)</div><div class='xr-var-dtype'>float32</div><div class='xr-var-preview xr-preview'>...</div><input id='attrs-21ee9c9a-2612-4386-b397-d2f7ee5ea70c' class='xr-var-attrs-in' type='checkbox' ><label for='attrs-21ee9c9a-2612-4386-b397-d2f7ee5ea70c' title='Show/Hide attributes'><svg class='icon xr-icon-file-text2'><use xlink:href='#icon-file-text2'></use></svg></label><input id='data-69f32934-9ac4-412c-8054-b162f1e4dbb4' class='xr-var-data-in' type='checkbox'><label for='data-69f32934-9ac4-412c-8054-b162f1e4dbb4' title='Show/Hide data repr'><svg class='icon xr-icon-database'><use xlink:href='#icon-database'></use></svg></label><div class='xr-var-attrs'><dl class='xr-attrs'><dt><span>valid_range :</span></dt><dd>[-3950000.  3950000.]</dd><dt><span>units :</span></dt><dd>meters</dd><dt><span>long_name :</span></dt><dd>projection_grid_x_centers</dd><dt><span>standard_name :</span></dt><dd>projection_x_coordinate</dd><dt><span>axis :</span></dt><dd>X</dd></dl></div><div class='xr-var-data'><pre>[316 values with dtype=float32]</pre></div></li><li class='xr-var-item'><div class='xr-var-name'><span>ygrid</span></div><div class='xr-var-dims'>(y)</div><div class='xr-var-dtype'>float32</div><div class='xr-var-preview xr-preview'>...</div><input id='attrs-986337dd-4e5a-4153-9fed-d961caa98776' class='xr-var-attrs-in' type='checkbox' ><label for='attrs-986337dd-4e5a-4153-9fed-d961caa98776' title='Show/Hide attributes'><svg class='icon xr-icon-file-text2'><use xlink:href='#icon-file-text2'></use></svg></label><input id='data-fdafdf48-b26b-438f-957c-c9697d3ff26f' class='xr-var-data-in' type='checkbox'><label for='data-fdafdf48-b26b-438f-957c-c9697d3ff26f' title='Show/Hide data repr'><svg class='icon xr-icon-database'><use xlink:href='#icon-database'></use></svg></label><div class='xr-var-attrs'><dl class='xr-attrs'><dt><span>valid_range :</span></dt><dd>[-3950000.  4350000.]</dd><dt><span>units :</span></dt><dd>meters</dd><dt><span>long_name :</span></dt><dd>projection_grid_y_centers</dd><dt><span>standard_name :</span></dt><dd>projection_y_coordinate</dd><dt><span>axis :</span></dt><dd>Y</dd></dl></div><div class='xr-var-data'><pre>[332 values with dtype=float32]</pre></div></li></ul></div></li><li class='xr-section-item'><input id='section-cc00ab5c-6272-4557-b58f-b9273f9359df' class='xr-section-summary-in' type='checkbox'  checked><label for='section-cc00ab5c-6272-4557-b58f-b9273f9359df' class='xr-section-summary' >Data variables: <span>(10)</span></label><div class='xr-section-inline-details'></div><div class='xr-section-details'><ul class='xr-var-list'><li class='xr-var-item'><div class='xr-var-name'><span>cdr_seaice_conc</span></div><div class='xr-var-dims'>(tdim, y, x)</div><div class='xr-var-dtype'>float32</div><div class='xr-var-preview xr-preview'>...</div><input id='attrs-8e01374e-7b21-4dbe-8c27-162e7f24a5ab' class='xr-var-attrs-in' type='checkbox' ><label for='attrs-8e01374e-7b21-4dbe-8c27-162e7f24a5ab' title='Show/Hide attributes'><svg class='icon xr-icon-file-text2'><use xlink:href='#icon-file-text2'></use></svg></label><input id='data-71160749-5dd8-42d5-aa47-5a8d0319b21e' class='xr-var-data-in' type='checkbox'><label for='data-71160749-5dd8-42d5-aa47-5a8d0319b21e' title='Show/Hide data repr'><svg class='icon xr-icon-database'><use xlink:href='#icon-database'></use></svg></label><div class='xr-var-attrs'><dl class='xr-attrs'><dt><span>long_name :</span></dt><dd>NOAA/NSIDC Climate Data Record of Passive Microwave Daily Southern Hemisphere Sea Ice Concentration</dd><dt><span>standard_name :</span></dt><dd>sea_ice_area_fraction</dd><dt><span>units :</span></dt><dd>1</dd><dt><span>flag_values :</span></dt><dd>[251 252 253 254 255]</dd><dt><span>flag_meanings :</span></dt><dd>pole_hole lakes coastal land_mask missing_data</dd><dt><span>datum :</span></dt><dd>+ellps=urn:ogc:def:crs:EPSG::4326</dd><dt><span>grid_mapping :</span></dt><dd>projection</dd><dt><span>reference :</span></dt><dd>https://nsidc.org/data/g02202/versions/4/</dd><dt><span>ancillary_variables :</span></dt><dd>stdev_of_cdr_seaice_conc qa_of_cdr_seaice_conc</dd><dt><span>valid_range :</span></dt><dd>[  0 100]</dd><dt><span>cell_methods :</span></dt><dd>tdim: mean</dd></dl></div><div class='xr-var-data'><pre>[38292880 values with dtype=float32]</pre></div></li><li class='xr-var-item'><div class='xr-var-name'><span>nsidc_bt_seaice_conc</span></div><div class='xr-var-dims'>(tdim, y, x)</div><div class='xr-var-dtype'>float32</div><div class='xr-var-preview xr-preview'>...</div><input id='attrs-2adc95f9-9985-41f4-8312-c074b0441971' class='xr-var-attrs-in' type='checkbox' ><label for='attrs-2adc95f9-9985-41f4-8312-c074b0441971' title='Show/Hide attributes'><svg class='icon xr-icon-file-text2'><use xlink:href='#icon-file-text2'></use></svg></label><input id='data-d861b6a7-ac2f-4b41-a535-cd395ec0de84' class='xr-var-data-in' type='checkbox'><label for='data-d861b6a7-ac2f-4b41-a535-cd395ec0de84' title='Show/Hide data repr'><svg class='icon xr-icon-database'><use xlink:href='#icon-database'></use></svg></label><div class='xr-var-attrs'><dl class='xr-attrs'><dt><span>long_name :</span></dt><dd>Passive Microwave Daily Southern Hemisphere Sea Ice Concentration by Bootstrap algorithm processed by NSIDC</dd><dt><span>standard_name :</span></dt><dd>sea_ice_area_fraction</dd><dt><span>units :</span></dt><dd>1</dd><dt><span>flag_values :</span></dt><dd>[251 252 253 254 255]</dd><dt><span>flag_meanings :</span></dt><dd>pole_hole unused coastal land_mask missing_data</dd><dt><span>datum :</span></dt><dd>+ellps=urn:ogc:def:crs:EPSG::4326</dd><dt><span>grid_mapping :</span></dt><dd>projection</dd><dt><span>valid_range :</span></dt><dd>[  0 100]</dd><dt><span>cell_methods :</span></dt><dd>tdim: mean</dd></dl></div><div class='xr-var-data'><pre>[38292880 values with dtype=float32]</pre></div></li><li class='xr-var-item'><div class='xr-var-name'><span>nsidc_nt_seaice_conc</span></div><div class='xr-var-dims'>(tdim, y, x)</div><div class='xr-var-dtype'>float32</div><div class='xr-var-preview xr-preview'>...</div><input id='attrs-e83b8eca-f3b5-4647-b2a7-6e90b8259591' class='xr-var-attrs-in' type='checkbox' ><label for='attrs-e83b8eca-f3b5-4647-b2a7-6e90b8259591' title='Show/Hide attributes'><svg class='icon xr-icon-file-text2'><use xlink:href='#icon-file-text2'></use></svg></label><input id='data-e0b7114f-8681-4ecb-b5ad-7b20975be3f7' class='xr-var-data-in' type='checkbox'><label for='data-e0b7114f-8681-4ecb-b5ad-7b20975be3f7' title='Show/Hide data repr'><svg class='icon xr-icon-database'><use xlink:href='#icon-database'></use></svg></label><div class='xr-var-attrs'><dl class='xr-attrs'><dt><span>long_name :</span></dt><dd>Passive Microwave Daily Southern Hemisphere Sea Ice Concentration by NASA Team algorithm processed by NSIDC</dd><dt><span>standard_name :</span></dt><dd>sea_ice_area_fraction</dd><dt><span>units :</span></dt><dd>1</dd><dt><span>flag_values :</span></dt><dd>[251 252 253 254 255]</dd><dt><span>flag_meanings :</span></dt><dd>pole_hole unused coastal land_mask missing_data</dd><dt><span>datum :</span></dt><dd>+ellps=urn:ogc:def:crs:EPSG::4326</dd><dt><span>grid_mapping :</span></dt><dd>projection</dd><dt><span>valid_range :</span></dt><dd>[  0 100]</dd><dt><span>cell_methods :</span></dt><dd>tdim: mean</dd></dl></div><div class='xr-var-data'><pre>[38292880 values with dtype=float32]</pre></div></li><li class='xr-var-item'><div class='xr-var-name'><span>projection</span></div><div class='xr-var-dims'>()</div><div class='xr-var-dtype'>|S1</div><div class='xr-var-preview xr-preview'>...</div><input id='attrs-4ea83903-92b4-49fe-98da-e9b365ff8b75' class='xr-var-attrs-in' type='checkbox' ><label for='attrs-4ea83903-92b4-49fe-98da-e9b365ff8b75' title='Show/Hide attributes'><svg class='icon xr-icon-file-text2'><use xlink:href='#icon-file-text2'></use></svg></label><input id='data-dac04e4e-5410-48dc-b8dd-f2e3da399722' class='xr-var-data-in' type='checkbox'><label for='data-dac04e4e-5410-48dc-b8dd-f2e3da399722' title='Show/Hide data repr'><svg class='icon xr-icon-database'><use xlink:href='#icon-database'></use></svg></label><div class='xr-var-attrs'><dl class='xr-attrs'><dt><span>grid_boundary_top_projected_y :</span></dt><dd>4350000.0</dd><dt><span>grid_boundary_bottom_projected_y :</span></dt><dd>-3950000.0</dd><dt><span>grid_boundary_right_projected_x :</span></dt><dd>3950000.0</dd><dt><span>grid_boundary_left_projected_x :</span></dt><dd>-3950000.0</dd><dt><span>parent_grid_cell_row_subset_start :</span></dt><dd>0.0</dd><dt><span>parent_grid_cell_row_subset_end :</span></dt><dd>332.0</dd><dt><span>parent_grid_cell_column_subset_start :</span></dt><dd>0.0</dd><dt><span>parent_grid_cell_column_subset_end :</span></dt><dd>316.0</dd><dt><span>spatial_ref :</span></dt><dd>PROJCS[&quot;NSIDC Sea Ice Polar Stereographic South&quot;,GEOGCS[&quot;Unspecified datum based upon the Hughes 1980 ellipsoid&quot;,DATUM[&quot;Not_specified_based_on_Hughes_1980_ellipsoid&quot;,SPHEROID[&quot;Hughes 1980&quot;,6378273,298.279411123061,AUTHORITY[&quot;EPSG&quot;,&quot;7058&quot;]],AUTHORITY[&quot;EPSG&quot;,&quot;6054&quot;]],PRIMEM[&quot;Greenwich&quot;,0,AUTHORITY[&quot;EPSG&quot;,&quot;8901&quot;]],UNIT[&quot;degree&quot;,0.01745329251994328,AUTHORITY[&quot;EPSG&quot;,&quot;9122&quot;]],AUTHORITY[&quot;EPSG&quot;,&quot;4054&quot;]],UNIT[&quot;metre&quot;,1,AUTHORITY[&quot;EPSG&quot;,&quot;9001&quot;]],PROJECTION[&quot;Polar_Stereographic&quot;],PARAMETER[&quot;latitude_of_origin&quot;,-70],PARAMETER[&quot;central_meridian&quot;,0],PARAMETER[&quot;scale_factor&quot;,1],PARAMETER[&quot;false_easting&quot;,0],PARAMETER[&quot;false_northing&quot;,0],AUTHORITY[&quot;EPSG&quot;,&quot;3412&quot;],AXIS[&quot;X&quot;,UNKNOWN],AXIS[&quot;Y&quot;,UNKNOWN]]</dd><dt><span>proj4text :</span></dt><dd>+proj=stere +lat_0=-90 +lat_ts=-70 +lon_0=0 +k=1 +x_0=0 +y_0=0 +a=6378273 +b=6356889.449 +units=m +no_defs</dd><dt><span>srid :</span></dt><dd>urn:ogc:def:crs:EPSG::3412</dd><dt><span>GeoTransform :</span></dt><dd>-3950000.0 25000.0 0 4350000.0 0 -25000.0</dd><dt><span>grid_mapping_name :</span></dt><dd>polar_stereographic</dd><dt><span>latitude_of_projection_origin :</span></dt><dd>-90.0</dd><dt><span>standard_parallel :</span></dt><dd>-70.0</dd><dt><span>straight_vertical_longitude_from_pole :</span></dt><dd>180.0</dd><dt><span>longitude_of_projection_origin :</span></dt><dd>0.0</dd><dt><span>scaling_factor :</span></dt><dd>1.0</dd><dt><span>false_easting :</span></dt><dd>0.0</dd><dt><span>false_northing :</span></dt><dd>0.0</dd><dt><span>semimajor_radius :</span></dt><dd>6378273.0</dd><dt><span>semiminor_radius :</span></dt><dd>6356889.449</dd><dt><span>units :</span></dt><dd>meters</dd></dl></div><div class='xr-var-data'><pre>[1 values with dtype=|S1]</pre></div></li><li class='xr-var-item'><div class='xr-var-name'><span>qa_of_cdr_seaice_conc</span></div><div class='xr-var-dims'>(tdim, y, x)</div><div class='xr-var-dtype'>float32</div><div class='xr-var-preview xr-preview'>...</div><input id='attrs-0b6c8c92-512d-442f-9b34-4b41030c6747' class='xr-var-attrs-in' type='checkbox' ><label for='attrs-0b6c8c92-512d-442f-9b34-4b41030c6747' title='Show/Hide attributes'><svg class='icon xr-icon-file-text2'><use xlink:href='#icon-file-text2'></use></svg></label><input id='data-679c454b-71c6-4fdb-ba1f-715f80d46718' class='xr-var-data-in' type='checkbox'><label for='data-679c454b-71c6-4fdb-ba1f-715f80d46718' title='Show/Hide data repr'><svg class='icon xr-icon-database'><use xlink:href='#icon-database'></use></svg></label><div class='xr-var-attrs'><dl class='xr-attrs'><dt><span>long_name :</span></dt><dd>Passive Microwave Daily Southern Hemisphere Sea Ice Concentration QC flags</dd><dt><span>standard_name :</span></dt><dd>sea_ice_area_fraction status_flag</dd><dt><span>flag_masks :</span></dt><dd>[ 1  2  4  8 16 32 64]</dd><dt><span>flag_mask_meanings :</span></dt><dd>BT_weather_filter_applied NT_weather_filter_applied BT_land_spillover_filter_applied NT_land_spillover_filter_applied valid_ice_mask_applied spatial_interpolation_applied temporal_interpolation_applied </dd><dt><span>datum :</span></dt><dd>+ellps=urn:ogc:def:crs:EPSG::4326</dd><dt><span>grid_mapping :</span></dt><dd>projection</dd><dt><span>valid_range :</span></dt><dd>[  1 255]</dd><dt><span>cell_methods :</span></dt><dd>tdim: mean</dd></dl></div><div class='xr-var-data'><pre>[38292880 values with dtype=float32]</pre></div></li><li class='xr-var-item'><div class='xr-var-name'><span>spatial_interpolation_flag</span></div><div class='xr-var-dims'>(tdim, y, x)</div><div class='xr-var-dtype'>float32</div><div class='xr-var-preview xr-preview'>...</div><input id='attrs-2586b910-3101-471e-8933-cc6a83d3e810' class='xr-var-attrs-in' type='checkbox' ><label for='attrs-2586b910-3101-471e-8933-cc6a83d3e810' title='Show/Hide attributes'><svg class='icon xr-icon-file-text2'><use xlink:href='#icon-file-text2'></use></svg></label><input id='data-f89a5ebc-0b5f-4eb9-ba6e-fc5ec95e8642' class='xr-var-data-in' type='checkbox'><label for='data-f89a5ebc-0b5f-4eb9-ba6e-fc5ec95e8642' title='Show/Hide data repr'><svg class='icon xr-icon-database'><use xlink:href='#icon-database'></use></svg></label><div class='xr-var-attrs'><dl class='xr-attrs'><dt><span>long_name :</span></dt><dd>Passive Microwave Daily Southern Hemisphere Sea Ice Concentration spatial interpolation flags</dd><dt><span>standard_name :</span></dt><dd>interpolation_flag</dd><dt><span>flag_masks :</span></dt><dd>[ 1  2  4  8 16 32]</dd><dt><span>flag_meanings :</span></dt><dd>19v_tb_value_interpolated 19h_tb_value_interpolated 22v_tb_value_interpolated 37v_tb_value_interpolated 37h_tb_value_interpolated pole_hole_value_interpolated</dd><dt><span>datum :</span></dt><dd>+ellps=urn:ogc:def:crs:EPSG::4326</dd><dt><span>grid_mapping :</span></dt><dd>projection</dd><dt><span>valid_range :</span></dt><dd>[ 0 63]</dd><dt><span>cell_methods :</span></dt><dd>tdim: mean</dd></dl></div><div class='xr-var-data'><pre>[38292880 values with dtype=float32]</pre></div></li><li class='xr-var-item'><div class='xr-var-name'><span>stdev_of_cdr_seaice_conc</span></div><div class='xr-var-dims'>(tdim, y, x)</div><div class='xr-var-dtype'>float32</div><div class='xr-var-preview xr-preview'>...</div><input id='attrs-b17c109f-9ad0-43c3-9d8b-72663d6405c4' class='xr-var-attrs-in' type='checkbox' ><label for='attrs-b17c109f-9ad0-43c3-9d8b-72663d6405c4' title='Show/Hide attributes'><svg class='icon xr-icon-file-text2'><use xlink:href='#icon-file-text2'></use></svg></label><input id='data-20b59f7c-86a5-44f6-8026-075e57e2105b' class='xr-var-data-in' type='checkbox'><label for='data-20b59f7c-86a5-44f6-8026-075e57e2105b' title='Show/Hide data repr'><svg class='icon xr-icon-database'><use xlink:href='#icon-database'></use></svg></label><div class='xr-var-attrs'><dl class='xr-attrs'><dt><span>long_name :</span></dt><dd>Passive Microwave Daily Southern Hemisphere Sea Ice Concentration Source Estimated Standard Deviation</dd><dt><span>datum :</span></dt><dd>+ellps=urn:ogc:def:crs:EPSG::4326</dd><dt><span>grid_mapping :</span></dt><dd>projection</dd><dt><span>flag_values :</span></dt><dd>[251 252 253 254 255]</dd><dt><span>flag_meanings :</span></dt><dd>pole_hole lakes coastal land_mask missing_data</dd><dt><span>valid_range :</span></dt><dd>[  0. 100.]</dd><dt><span>cell_methods :</span></dt><dd>tdim: mean</dd></dl></div><div class='xr-var-data'><pre>[38292880 values with dtype=float32]</pre></div></li><li class='xr-var-item'><div class='xr-var-name'><span>temporal_interpolation_flag</span></div><div class='xr-var-dims'>(tdim, y, x)</div><div class='xr-var-dtype'>float32</div><div class='xr-var-preview xr-preview'>...</div><input id='attrs-92e271a5-8f54-4d6c-ae03-115816c4a00e' class='xr-var-attrs-in' type='checkbox' ><label for='attrs-92e271a5-8f54-4d6c-ae03-115816c4a00e' title='Show/Hide attributes'><svg class='icon xr-icon-file-text2'><use xlink:href='#icon-file-text2'></use></svg></label><input id='data-a3f06e77-9ff4-4e21-b2b0-b043c30dab3f' class='xr-var-data-in' type='checkbox'><label for='data-a3f06e77-9ff4-4e21-b2b0-b043c30dab3f' title='Show/Hide data repr'><svg class='icon xr-icon-database'><use xlink:href='#icon-database'></use></svg></label><div class='xr-var-attrs'><dl class='xr-attrs'><dt><span>long_name :</span></dt><dd>Passive Microwave Daily Southern Hemisphere Sea Ice Concentration temporal interpolation flags</dd><dt><span>standard_name :</span></dt><dd>interpolation_flag</dd><dt><span>flag_masks :</span></dt><dd>[ 1  2  3  4  5 10 11 20 22 30 33 40 44 50 55]</dd><dt><span>flag_meanings :</span></dt><dd>1_day_following 2_days_following 3_days_following 4_days_following 5_days_following 1_day_prior mean_of_prior_and_following_1_day 2_days_prior mean_of_prior_and_following_2_days 3_days_prior mean_of_prior_and_following_3_days 4_days_prior mean_of_prior_and_following_4_days 5_days_prior mean_of_prior_and_following_5_days</dd><dt><span>comment :</span></dt><dd>If flagged, the value has been replaced by the value n-days prior, n-days following, or the mean of n-days prior and following where n is 1, 2, 3, 4, or 5 days.</dd><dt><span>datum :</span></dt><dd>+ellps=urn:ogc:def:crs:EPSG::4326</dd><dt><span>grid_mapping :</span></dt><dd>projection</dd><dt><span>valid_range :</span></dt><dd>[ 0 55]</dd><dt><span>cell_methods :</span></dt><dd>tdim: mean</dd></dl></div><div class='xr-var-data'><pre>[38292880 values with dtype=float32]</pre></div></li><li class='xr-var-item'><div class='xr-var-name'><span>latitude</span></div><div class='xr-var-dims'>(y, x)</div><div class='xr-var-dtype'>float32</div><div class='xr-var-preview xr-preview'>...</div><input id='attrs-859eb7a0-f53b-44d7-a454-74f73ade6d48' class='xr-var-attrs-in' type='checkbox' ><label for='attrs-859eb7a0-f53b-44d7-a454-74f73ade6d48' title='Show/Hide attributes'><svg class='icon xr-icon-file-text2'><use xlink:href='#icon-file-text2'></use></svg></label><input id='data-646e3c9c-6748-4865-9fc3-9f3c102a494c' class='xr-var-data-in' type='checkbox'><label for='data-646e3c9c-6748-4865-9fc3-9f3c102a494c' title='Show/Hide data repr'><svg class='icon xr-icon-database'><use xlink:href='#icon-database'></use></svg></label><div class='xr-var-attrs'><dl class='xr-attrs'><dt><span>standard_name :</span></dt><dd>latitude</dd><dt><span>long_name :</span></dt><dd>latitude</dd><dt><span>units :</span></dt><dd>degrees_north</dd><dt><span>valid_range :</span></dt><dd>[-90.  90.]</dd></dl></div><div class='xr-var-data'><pre>[104912 values with dtype=float32]</pre></div></li><li class='xr-var-item'><div class='xr-var-name'><span>longitude</span></div><div class='xr-var-dims'>(y, x)</div><div class='xr-var-dtype'>float32</div><div class='xr-var-preview xr-preview'>...</div><input id='attrs-a11b0555-8824-497a-960d-707abcfcc525' class='xr-var-attrs-in' type='checkbox' ><label for='attrs-a11b0555-8824-497a-960d-707abcfcc525' title='Show/Hide attributes'><svg class='icon xr-icon-file-text2'><use xlink:href='#icon-file-text2'></use></svg></label><input id='data-c787128f-7e1e-400b-b654-250904d486ac' class='xr-var-data-in' type='checkbox'><label for='data-c787128f-7e1e-400b-b654-250904d486ac' title='Show/Hide data repr'><svg class='icon xr-icon-database'><use xlink:href='#icon-database'></use></svg></label><div class='xr-var-attrs'><dl class='xr-attrs'><dt><span>standard_name :</span></dt><dd>longitude</dd><dt><span>long_name :</span></dt><dd>longitude</dd><dt><span>units :</span></dt><dd>degrees_east</dd><dt><span>valid_range :</span></dt><dd>[-180.  180.]</dd></dl></div><div class='xr-var-data'><pre>[104912 values with dtype=float32]</pre></div></li></ul></div></li><li class='xr-section-item'><input id='section-b0414957-893d-4284-9856-fc2bdade088c' class='xr-section-summary-in' type='checkbox' disabled ><label for='section-b0414957-893d-4284-9856-fc2bdade088c' class='xr-section-summary'  title='Expand/collapse section'>Indexes: <span>(0)</span></label><div class='xr-section-inline-details'></div><div class='xr-section-details'><ul class='xr-var-list'></ul></div></li><li class='xr-section-item'><input id='section-22753519-7908-4b18-9517-b6ed6e12e2df' class='xr-section-summary-in' type='checkbox'  ><label for='section-22753519-7908-4b18-9517-b6ed6e12e2df' class='xr-section-summary' >Attributes: <span>(39)</span></label><div class='xr-section-inline-details'></div><div class='xr-section-details'><dl class='xr-attrs'><dt><span>Conventions :</span></dt><dd>CF-1.6, ACDD-1.3</dd><dt><span>title :</span></dt><dd>NOAA/NSIDC Climate Data Record of Passive Microwave Sea Ice Concentration Version 4</dd><dt><span>references :</span></dt><dd>Comiso, J. C., and F. Nishio. 2008. Trends in the Sea Ice Cover Using Enhanced and Compatible AMSR-E, SSM/I, and SMMR Data. Journal of Geophysical Research 113, C02S07, doi:10.1029/2007JC0043257. ; Comiso, J. C., D. Cavalieri, C. Parkinson, and P. Gloersen. 1997. Passive Microwave Algorithms for Sea Ice Concentrations: A Comparison of Two Techniques. Remote Sensing of the Environment 60(3):357-84. ; Comiso, J. C. 1984. Characteristics of Winter Sea Ice from Satellite Multispectral Microwave Observations. Journal of Geophysical Research 91(C1):975-94. ; Cavalieri, D. J., P. Gloersen, and W. J. Campbell. 1984. Determination of Sea Ice Parameters with the NIMBUS-7 SMMR. Journal of Geophysical Research 89(D4):5355-5369. ; Cavalieri, D. J., C. l. Parkinson, P. Gloersen, J. C. Comiso, and H. J. Zwally. 1999. Deriving Long-term Time Series of Sea Ice Cover from Satellite Passive-Microwave Multisensor Data Sets. Journal of Geophysical Research 104(7): 15,803-15,814. Comiso, J.C., R.A. Gersten, L.V. Stock, J. Turner, G.J. Perez, and K. Cho. 2017. Positive Trend in the Antarctic Sea Ice Cover and Associated Changes in Surface Temperature. J. Climate, 30, 2251–2267, https://doi.org/10.1175/JCLI-D-16-0408.1</dd><dt><span>comment :</span></dt><dd>none</dd><dt><span>program :</span></dt><dd>NOAA Climate Data Record Program</dd><dt><span>cdr_variable :</span></dt><dd>cdr_seaice_conc</dd><dt><span>software_version_id :</span></dt><dd>git@bitbucket.org:nsidc/seaice_cdr.git@c9c632e73530554d8acfac9090baeb1e35755897</dd><dt><span>metadata_Link :</span></dt><dd>https://nsidc.org/data/g02202/versions/4/</dd><dt><span>product_version :</span></dt><dd>v04r00</dd><dt><span>spatial_resolution :</span></dt><dd>25km</dd><dt><span>standard_name_vocabulary :</span></dt><dd>CF Standard Name Table (v16, 11 October 2010)</dd><dt><span>id :</span></dt><dd>https://doi.org/10.7265/sr8p-kc62</dd><dt><span>naming_authority :</span></dt><dd>org.doi.dx</dd><dt><span>license :</span></dt><dd>No constraints on data access or use</dd><dt><span>summary :</span></dt><dd>This data set provides a passive microwave sea ice concentration climate data record (CDR) based on gridded brightness temperatures (TBs) from the Defense Meteorological Satellite Program (DMSP) series of passive microwave radiometers: the Nimbus-7 Scanning Multichannel Microwave Radiometer (SMMR), the Special Sensor Microwave Imager (SSM/I) and the Special Sensor Microwave Imager/Sounder (SSMIS). The sea ice concentration CDR is an estimate of sea ice concentration that is produced by combining concentration estimates from two algorithms developed at the NASA Goddard Space Flight Center (GSFC): the NASA Team algorithm and the Bootstrap algorithm. The individual algorithms are used to process and combine brightness temperatures at NSIDC. This product is designed to provide a consistent time series of sea ice concentrations (the fraction, or percentage, of ocean area covered by sea ice) from November 1978 to the present which spans the coverage of several passive microwave instruments. The data are gridded on the NSIDC polar stereographic grid with 25 x 25 km grid cells, and are available in NetCDF file format. Each file contains a variable with the CDR concentration values as well as variables that hold the NASA Team and Bootstrap processed concentrations for reference. Variables containing standard deviation, quality flags, and projection information are also included. Data are available via FTP.</dd><dt><span>keywords :</span></dt><dd>EARTH SCIENCE &gt; CRYOSPHERE &gt; SEA ICE &gt; SEA ICE CONCENTRATION, Geographic Region &gt; Polar, Geographic Region &gt; Southern Hemisphere, Ocean &gt; Southern Ocean, Ocean &gt; Southern Ocean &gt; Bellingshausen Sea, Ocean &gt; Southern Ocean &gt; Ross Sea, Ocean &gt; Southern Ocean &gt; Weddell Sea</dd><dt><span>keywords_vocabulary :</span></dt><dd>NASA Global Change Master Directory (GCMD) Keywords, Version 7.0.0</dd><dt><span>cdm_data_type :</span></dt><dd>Grid</dd><dt><span>project :</span></dt><dd>NOAA/NSIDC passive microwave sea ice concentration climate data record</dd><dt><span>creator_url :</span></dt><dd>http://nsidc.org/</dd><dt><span>creator_email :</span></dt><dd>nsidc@nsidc.org</dd><dt><span>institution :</span></dt><dd>NSIDC &gt; National Snow and Ice Data Center</dd><dt><span>processing_level :</span></dt><dd>NOAA Level 3</dd><dt><span>geospatial_lat_min :</span></dt><dd>-90.0</dd><dt><span>geospatial_lat_max :</span></dt><dd>-41.45</dd><dt><span>geospatial_lat_units :</span></dt><dd>degrees_north</dd><dt><span>geospatial_lon_min :</span></dt><dd>-180.0</dd><dt><span>geospatial_lon_max :</span></dt><dd>180.0</dd><dt><span>geospatial_lon_units :</span></dt><dd>degrees_east</dd><dt><span>time_coverage_duration :</span></dt><dd>P1Y</dd><dt><span>time_coverage_resolution :</span></dt><dd>P1D</dd><dt><span>contributor_name :</span></dt><dd>Walter N. Meier, Florence Fetterer, Ann Windnagel, J. Scott Stewart, Trey Stafford, Matt Fisher</dd><dt><span>contributor_role :</span></dt><dd>principal investigator, author, author, software developer, software developer, software developer</dd><dt><span>acknowledgment :</span></dt><dd>This project was supported in part by a grant from the NOAA Climate Data Record Program. Production of original NASA Team and Bootstrap algorithm estimates supported by the NASA Polar Distributed Active Archive Center. The sea ice concentration algorithms were developed by Donald J. Cavalieri, Josefino C. Comiso, Claire L. Parkinson, and others at the NASA Goddard Space Flight Center in Greenbelt, MD.</dd><dt><span>platform :</span></dt><dd>DMSP 5D-3/F17 &gt; Defense Meteorological Satellite Program-F17</dd><dt><span>sensor :</span></dt><dd>SSMI/S &gt; Special Sensor Microwave Imager/Sounder</dd><dt><span>date_created :</span></dt><dd>2023-09-26T20:17:19Z</dd><dt><span>time_coverage_start :</span></dt><dd>2023-01-01T00:00:00Z</dd><dt><span>time_coverage_end :</span></dt><dd>2023-12-31T23:59:59Z</dd></dl></div></li></ul></div></div>"
      ],
      "text/plain": [
       "<xarray.Dataset> Size: 1GB\n",
       "Dimensions:                      (tdim: 365, y: 332, x: 316)\n",
       "Coordinates:\n",
       "    time                         (tdim) datetime64[ns] 3kB ...\n",
       "    xgrid                        (x) float32 1kB ...\n",
       "    ygrid                        (y) float32 1kB ...\n",
       "Dimensions without coordinates: tdim, y, x\n",
       "Data variables:\n",
       "    cdr_seaice_conc              (tdim, y, x) float32 153MB ...\n",
       "    nsidc_bt_seaice_conc         (tdim, y, x) float32 153MB ...\n",
       "    nsidc_nt_seaice_conc         (tdim, y, x) float32 153MB ...\n",
       "    projection                   |S1 1B ...\n",
       "    qa_of_cdr_seaice_conc        (tdim, y, x) float32 153MB ...\n",
       "    spatial_interpolation_flag   (tdim, y, x) float32 153MB ...\n",
       "    stdev_of_cdr_seaice_conc     (tdim, y, x) float32 153MB ...\n",
       "    temporal_interpolation_flag  (tdim, y, x) float32 153MB ...\n",
       "    latitude                     (y, x) float32 420kB ...\n",
       "    longitude                    (y, x) float32 420kB ...\n",
       "Attributes: (12/39)\n",
       "    Conventions:               CF-1.6, ACDD-1.3\n",
       "    title:                     NOAA/NSIDC Climate Data Record of Passive Micr...\n",
       "    references:                Comiso, J. C., and F. Nishio. 2008. Trends in ...\n",
       "    comment:                   none\n",
       "    program:                   NOAA Climate Data Record Program\n",
       "    cdr_variable:              cdr_seaice_conc\n",
       "    ...                        ...\n",
       "    acknowledgment:            This project was supported in part by a grant ...\n",
       "    platform:                  DMSP 5D-3/F17 > Defense Meteorological Satelli...\n",
       "    sensor:                    SSMI/S > Special Sensor Microwave Imager/Sounder\n",
       "    date_created:              2023-09-26T20:17:19Z\n",
       "    time_coverage_start:       2023-01-01T00:00:00Z\n",
       "    time_coverage_end:         2023-12-31T23:59:59Z"
      ]
     },
     "execution_count": 15,
     "metadata": {},
     "output_type": "execute_result"
    }
   ],
   "source": [
    "fs = fsspec.filesystem('https')\n",
    "ds = xr.open_dataset(fs.open(netcdf_url))\n",
    "ds"
   ]
  },
  {
   "cell_type": "code",
   "execution_count": 16,
   "id": "35c3ec2f-4b25-43cb-9103-b53ce36e99f0",
   "metadata": {},
   "outputs": [],
   "source": [
    "# Pull out sea ice concentration variable"
   ]
  },
  {
   "cell_type": "code",
   "execution_count": null,
   "id": "d28c0506-4197-4013-8f6a-1a4d97cb247c",
   "metadata": {},
   "outputs": [],
   "source": []
  }
 ],
 "metadata": {
  "kernelspec": {
   "display_name": "Python 3 (ipykernel)",
   "language": "python",
   "name": "python3"
  },
  "language_info": {
   "codemirror_mode": {
    "name": "ipython",
    "version": 3
   },
   "file_extension": ".py",
   "mimetype": "text/x-python",
   "name": "python",
   "nbconvert_exporter": "python",
   "pygments_lexer": "ipython3",
   "version": "3.11.9"
  }
 },
 "nbformat": 4,
 "nbformat_minor": 5
}
