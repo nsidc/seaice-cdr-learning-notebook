{
 "cells": [
  {
   "cell_type": "markdown",
   "id": "0b8abb86-d111-4a8a-beb8-278762fe8a10",
   "metadata": {},
   "source": [
    "# Chapter 4: Computing sea ice extent and time series graph"
   ]
  },
  {
   "cell_type": "code",
   "execution_count": null,
   "id": "5c8e7926-ad1f-4683-94a9-a7d4812a58e9",
   "metadata": {},
   "outputs": [],
   "source": []
  }
 ],
 "metadata": {
  "kernelspec": {
   "display_name": "Python 3 (ipykernel)",
   "language": "python",
   "name": "python3"
  },
  "language_info": {
   "codemirror_mode": {
    "name": "ipython",
    "version": 3
   },
   "file_extension": ".py",
   "mimetype": "text/x-python",
   "name": "python",
   "nbconvert_exporter": "python",
   "pygments_lexer": "ipython3",
   "version": "3.11.9"
  }
 },
 "nbformat": 4,
 "nbformat_minor": 5
}
